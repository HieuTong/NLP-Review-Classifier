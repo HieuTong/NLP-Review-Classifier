{
 "cells": [
  {
   "cell_type": "markdown",
   "metadata": {},
   "source": [
    "# Assignment 2: Milestone I Natural Language Processing\n",
    "## Task 2&3\n",
    "#### Student Name: Tong Minh Hieu Le\n",
    "#### Student ID: 4098368\n",
    "\n",
    "\n",
    "Environment: Python 3 and Jupyter notebook\n",
    "\n",
    "Libraries used: please include all the libraries you used in your assignment, e.g.,:\n",
    "* pandas\n",
    "* re\n",
    "* numpy\n",
    "* CountVectorizer, TfidfVectorizer, LogisticRegression ... from sklearn\n",
    "* ...\n",
    "\n",
    "## Introduction\n",
    "Generating Feature Representations for Clothing Reviews and Clothing Review Classification"
   ]
  },
  {
   "cell_type": "markdown",
   "metadata": {},
   "source": [
    "## Importing libraries "
   ]
  },
  {
   "cell_type": "code",
   "execution_count": 78,
   "metadata": {},
   "outputs": [],
   "source": [
    "# Code to import libraries as you need in this assessment, e.g.,\n",
    "import pandas as pd\n",
    "import numpy as np\n",
    "from sklearn.feature_extraction.text import CountVectorizer\n",
    "from sklearn.feature_extraction.text import TfidfVectorizer\n",
    "from sklearn.model_selection import train_test_split\n",
    "from sklearn.linear_model import LogisticRegression\n",
    "from itertools import chain\n",
    "\"\"\"Note: load glove embeddings and put them in a\n",
    "   `KeyedVectors` so we can use `docvecs`.\n",
    "\"\"\"\n",
    "from gensim.models import KeyedVectors\n",
    "from sklearn.metrics import confusion_matrix\n",
    "from sklearn.metrics import plot_confusion_matrix\n",
    "import matplotlib.pyplot as plt\n",
    "%matplotlib inline \n",
    "import seaborn as sns\n",
    "from sklearn.metrics import classification_report\n",
    "from sklearn.model_selection import KFold\n",
    "from sklearn.metrics import accuracy_score, f1_score\n",
    "from scipy.sparse import hstack\n",
    "\n"
   ]
  },
  {
   "cell_type": "markdown",
   "metadata": {},
   "source": [
    "## Task 2. Generating Feature Representations for Clothing Items Reviews"
   ]
  },
  {
   "cell_type": "markdown",
   "metadata": {},
   "source": [
    "### Task 2.1 Bag-of-words model"
   ]
  },
  {
   "cell_type": "code",
   "execution_count": 79,
   "metadata": {},
   "outputs": [
    {
     "data": {
      "text/html": [
       "<div>\n",
       "<style scoped>\n",
       "    .dataframe tbody tr th:only-of-type {\n",
       "        vertical-align: middle;\n",
       "    }\n",
       "\n",
       "    .dataframe tbody tr th {\n",
       "        vertical-align: top;\n",
       "    }\n",
       "\n",
       "    .dataframe thead th {\n",
       "        text-align: right;\n",
       "    }\n",
       "</style>\n",
       "<table border=\"1\" class=\"dataframe\">\n",
       "  <thead>\n",
       "    <tr style=\"text-align: right;\">\n",
       "      <th></th>\n",
       "      <th>Clothing ID</th>\n",
       "      <th>Age</th>\n",
       "      <th>Title</th>\n",
       "      <th>Review Text</th>\n",
       "      <th>Rating</th>\n",
       "      <th>Recommended IND</th>\n",
       "      <th>Positive Feedback Count</th>\n",
       "      <th>Division Name</th>\n",
       "      <th>Department Name</th>\n",
       "      <th>Class Name</th>\n",
       "      <th>Processed Review Text</th>\n",
       "    </tr>\n",
       "  </thead>\n",
       "  <tbody>\n",
       "    <tr>\n",
       "      <th>0</th>\n",
       "      <td>1077</td>\n",
       "      <td>60</td>\n",
       "      <td>Some major design flaws</td>\n",
       "      <td>I had such high hopes for this dress and reall...</td>\n",
       "      <td>3</td>\n",
       "      <td>0</td>\n",
       "      <td>0</td>\n",
       "      <td>General</td>\n",
       "      <td>Dresses</td>\n",
       "      <td>Dresses</td>\n",
       "      <td>high hopes wanted work initially petite usual ...</td>\n",
       "    </tr>\n",
       "    <tr>\n",
       "      <th>1</th>\n",
       "      <td>1049</td>\n",
       "      <td>50</td>\n",
       "      <td>My favorite buy!</td>\n",
       "      <td>I love, love, love this jumpsuit. it's fun, fl...</td>\n",
       "      <td>5</td>\n",
       "      <td>1</td>\n",
       "      <td>0</td>\n",
       "      <td>General Petite</td>\n",
       "      <td>Bottoms</td>\n",
       "      <td>Pants</td>\n",
       "      <td>jumpsuit fun flirty fabulous time compliments</td>\n",
       "    </tr>\n",
       "    <tr>\n",
       "      <th>2</th>\n",
       "      <td>847</td>\n",
       "      <td>47</td>\n",
       "      <td>Flattering shirt</td>\n",
       "      <td>This shirt is very flattering to all due to th...</td>\n",
       "      <td>5</td>\n",
       "      <td>1</td>\n",
       "      <td>6</td>\n",
       "      <td>General</td>\n",
       "      <td>Tops</td>\n",
       "      <td>Blouses</td>\n",
       "      <td>shirt due adjustable front tie length leggings...</td>\n",
       "    </tr>\n",
       "    <tr>\n",
       "      <th>3</th>\n",
       "      <td>1080</td>\n",
       "      <td>49</td>\n",
       "      <td>Not for the very petite</td>\n",
       "      <td>I love tracy reese dresses, but this one is no...</td>\n",
       "      <td>2</td>\n",
       "      <td>0</td>\n",
       "      <td>4</td>\n",
       "      <td>General</td>\n",
       "      <td>Dresses</td>\n",
       "      <td>Dresses</td>\n",
       "      <td>tracy reese dresses petite feet tall brand pre...</td>\n",
       "    </tr>\n",
       "    <tr>\n",
       "      <th>4</th>\n",
       "      <td>858</td>\n",
       "      <td>39</td>\n",
       "      <td>Cagrcoal shimmer fun</td>\n",
       "      <td>I aded this in my basket at hte last mintue to...</td>\n",
       "      <td>5</td>\n",
       "      <td>1</td>\n",
       "      <td>1</td>\n",
       "      <td>General Petite</td>\n",
       "      <td>Tops</td>\n",
       "      <td>Knits</td>\n",
       "      <td>basket hte person store pick teh pale hte gorg...</td>\n",
       "    </tr>\n",
       "  </tbody>\n",
       "</table>\n",
       "</div>"
      ],
      "text/plain": [
       "   Clothing ID  Age                    Title  \\\n",
       "0         1077   60  Some major design flaws   \n",
       "1         1049   50         My favorite buy!   \n",
       "2          847   47         Flattering shirt   \n",
       "3         1080   49  Not for the very petite   \n",
       "4          858   39     Cagrcoal shimmer fun   \n",
       "\n",
       "                                         Review Text  Rating  Recommended IND  \\\n",
       "0  I had such high hopes for this dress and reall...       3                0   \n",
       "1  I love, love, love this jumpsuit. it's fun, fl...       5                1   \n",
       "2  This shirt is very flattering to all due to th...       5                1   \n",
       "3  I love tracy reese dresses, but this one is no...       2                0   \n",
       "4  I aded this in my basket at hte last mintue to...       5                1   \n",
       "\n",
       "   Positive Feedback Count   Division Name Department Name Class Name  \\\n",
       "0                        0         General         Dresses    Dresses   \n",
       "1                        0  General Petite         Bottoms      Pants   \n",
       "2                        6         General            Tops    Blouses   \n",
       "3                        4         General         Dresses    Dresses   \n",
       "4                        1  General Petite            Tops      Knits   \n",
       "\n",
       "                               Processed Review Text  \n",
       "0  high hopes wanted work initially petite usual ...  \n",
       "1      jumpsuit fun flirty fabulous time compliments  \n",
       "2  shirt due adjustable front tie length leggings...  \n",
       "3  tracy reese dresses petite feet tall brand pre...  \n",
       "4  basket hte person store pick teh pale hte gorg...  "
      ]
     },
     "execution_count": 79,
     "metadata": {},
     "output_type": "execute_result"
    }
   ],
   "source": [
    "# Code to perform the task...\n",
    "# Load the dataset from processed.csv \n",
    "df = pd.read_csv('processed.csv')\n",
    "df.head(5)"
   ]
  },
  {
   "cell_type": "code",
   "execution_count": 80,
   "metadata": {},
   "outputs": [
    {
     "data": {
      "text/plain": [
       "(19652, 11)"
      ]
     },
     "execution_count": 80,
     "metadata": {},
     "output_type": "execute_result"
    }
   ],
   "source": [
    "df.shape"
   ]
  },
  {
   "cell_type": "code",
   "execution_count": 81,
   "metadata": {},
   "outputs": [],
   "source": [
    "# Extract processed reviews from the DataFrame\n",
    "processed_reviews = df['Processed Review Text'].tolist()"
   ]
  },
  {
   "cell_type": "code",
   "execution_count": 82,
   "metadata": {},
   "outputs": [
    {
     "data": {
      "text/plain": [
       "'jumpsuit fun flirty fabulous time compliments'"
      ]
     },
     "execution_count": 82,
     "metadata": {},
     "output_type": "execute_result"
    }
   ],
   "source": [
    "# index to test the token in each processed review\n",
    "test_index = 1\n",
    "processed_reviews[test_index]"
   ]
  },
  {
   "cell_type": "code",
   "execution_count": 83,
   "metadata": {},
   "outputs": [],
   "source": [
    "# Create tokenized reviews, safely skipping test_indexty strings and NaN values\n",
    "tk_reviews = [\n",
    "    review.split(\" \") if isinstance(review, str) and review.strip() else []\n",
    "    for review in processed_reviews\n",
    "]"
   ]
  },
  {
   "cell_type": "code",
   "execution_count": 84,
   "metadata": {},
   "outputs": [
    {
     "data": {
      "text/plain": [
       "['jumpsuit', 'fun', 'flirty', 'fabulous', 'time', 'compliments']"
      ]
     },
     "execution_count": 84,
     "metadata": {},
     "output_type": "execute_result"
    }
   ],
   "source": [
    "tk_reviews[test_index]"
   ]
  },
  {
   "cell_type": "code",
   "execution_count": 85,
   "metadata": {},
   "outputs": [
    {
     "name": "stdout",
     "output_type": "stream",
     "text": [
      "Total empty reviews: 0 out of 19652\n",
      "Percentage of empty reviews: 0.00%\n",
      "Total empty processed reviews: 0 out of 19652\n",
      "Percentage of empty processed reviews: 0.00%\n"
     ]
    }
   ],
   "source": [
    "# Check for empty reviews in the tokenized data\n",
    "def check_empty_reviews(tk_reviews):\n",
    "    empty_count = 0\n",
    "    for i, review in enumerate(tk_reviews):\n",
    "        if not review:  # If review is empty\n",
    "            empty_count += 1\n",
    "            print(f\"Empty review found at index {i}\")\n",
    "    \n",
    "    print(f\"Total empty reviews: {empty_count} out of {len(tk_reviews)}\")\n",
    "    print(f\"Percentage of empty reviews: {(empty_count/len(tk_reviews)*100):.2f}%\")\n",
    "    \n",
    "    # Get processed reviews\n",
    "    processed_reviews = df['Processed Review Text'].tolist()\n",
    "    \n",
    "    # Check how many processed reviews are empty or NaN\n",
    "    empty_processed = 0\n",
    "    for review in processed_reviews:\n",
    "        if not isinstance(review, str) or not review.strip():\n",
    "            empty_processed += 1\n",
    "            \n",
    "    print(f\"Total empty processed reviews: {empty_processed} out of {len(processed_reviews)}\")\n",
    "    print(f\"Percentage of empty processed reviews: {(empty_processed/len(processed_reviews)*100):.2f}%\")\n",
    "\n",
    "# Check for empty reviews\n",
    "check_empty_reviews(tk_reviews)"
   ]
  },
  {
   "cell_type": "code",
   "execution_count": 86,
   "metadata": {},
   "outputs": [],
   "source": [
    "def stats_print(tk_reviews):\n",
    "    words = list(chain.from_iterable(tk_reviews)) # we put all the tokens in the corpus in a single list\n",
    "    vocab = set(words) # compute the vocabulary by converting the list of words/tokens to a set, i.e., giving a set of unique words\n",
    "    lexical_diversity = len(vocab)/len(words)\n",
    "    print(\"Vocabulary size: \",len(vocab))\n",
    "    print(\"Total number of tokens: \", len(words))\n",
    "    print(\"Lexical diversity: \", lexical_diversity)\n",
    "    print(\"Total number of reviews:\", len(tk_reviews))\n",
    "    lens = [len(article) for article in tk_reviews]\n",
    "    print(\"Average review length:\", np.mean(lens))\n",
    "    print(\"Maximun review length:\", np.max(lens))\n",
    "    print(\"Minimun review length:\", np.min(lens))\n",
    "    print(\"Standard deviation of review length:\", np.std(lens))"
   ]
  },
  {
   "cell_type": "code",
   "execution_count": 87,
   "metadata": {},
   "outputs": [
    {
     "name": "stdout",
     "output_type": "stream",
     "text": [
      "Vocabulary size:  7529\n",
      "Total number of tokens:  355505\n",
      "Lexical diversity:  0.021178323792914306\n",
      "Total number of reviews: 19652\n",
      "Average review length: 18.09001628332994\n",
      "Maximun review length: 47\n",
      "Minimun review length: 1\n",
      "Standard deviation of review length: 8.826348342078324\n"
     ]
    }
   ],
   "source": [
    "stats_print(tk_reviews)"
   ]
  },
  {
   "cell_type": "code",
   "execution_count": 88,
   "metadata": {},
   "outputs": [],
   "source": [
    "# Load the vocabulary from vocab.txt\n",
    "vocab_dict = {}  # word to index\n",
    "with open('vocab.txt', 'r') as f:\n",
    "    for line in f:\n",
    "        parts = line.strip().split(':')\n",
    "        if len(parts) == 2:\n",
    "            word, idx = parts\n",
    "            vocab_dict[int(idx)] = word\n",
    "\n",
    "vocab = list(vocab_dict.values())\n"
   ]
  },
  {
   "cell_type": "code",
   "execution_count": 89,
   "metadata": {},
   "outputs": [
    {
     "data": {
      "text/plain": [
       "7529"
      ]
     },
     "execution_count": 89,
     "metadata": {},
     "output_type": "execute_result"
    }
   ],
   "source": [
    "# Check size of the vocabulary\n",
    "len(vocab)"
   ]
  },
  {
   "cell_type": "code",
   "execution_count": 90,
   "metadata": {},
   "outputs": [],
   "source": [
    "# initialised the CountVectorizer\n",
    "cVectorizer = CountVectorizer(analyzer = \"word\",vocabulary = vocab) "
   ]
  },
  {
   "cell_type": "code",
   "execution_count": 91,
   "metadata": {},
   "outputs": [
    {
     "data": {
      "text/plain": [
       "['a-cup',\n",
       " 'a-flutter',\n",
       " 'a-frame',\n",
       " 'a-kind',\n",
       " 'a-line',\n",
       " 'a-lines',\n",
       " 'a-symmetric',\n",
       " 'aa',\n",
       " 'ab',\n",
       " 'abbey',\n",
       " 'abby',\n",
       " 'abdomen',\n",
       " 'ability',\n",
       " 'abnormally',\n",
       " 'abo',\n",
       " 'abou',\n",
       " 'above-the',\n",
       " 'abroad',\n",
       " 'abs',\n",
       " 'absolute',\n",
       " 'absolutely',\n",
       " 'absolutley',\n",
       " 'absolutly',\n",
       " 'abstract',\n",
       " 'absurd',\n",
       " 'abt',\n",
       " 'abundance',\n",
       " 'ac',\n",
       " 'accent',\n",
       " 'accented',\n",
       " 'accenting',\n",
       " 'accents',\n",
       " 'accentuate',\n",
       " 'accentuated',\n",
       " 'accentuates',\n",
       " 'accentuating',\n",
       " 'accept',\n",
       " 'acceptable',\n",
       " 'accepted',\n",
       " 'access',\n",
       " 'accessories',\n",
       " 'accessorize',\n",
       " 'accessorized',\n",
       " 'accessorizing',\n",
       " 'accessory',\n",
       " 'accident',\n",
       " 'accidental',\n",
       " 'accidentally',\n",
       " 'accommodate',\n",
       " 'accommodated',\n",
       " 'accommodates',\n",
       " 'accommodating',\n",
       " 'accomodate',\n",
       " 'accompanying',\n",
       " 'accomplish',\n",
       " 'accordian',\n",
       " 'account',\n",
       " 'accurate',\n",
       " 'accurately',\n",
       " 'acetate',\n",
       " 'achieve',\n",
       " 'acrylic',\n",
       " 'act',\n",
       " 'action',\n",
       " 'active',\n",
       " 'activewear',\n",
       " 'activities',\n",
       " 'acts',\n",
       " 'actual',\n",
       " 'actuality',\n",
       " 'ad',\n",
       " 'ada',\n",
       " 'add',\n",
       " 'add-on',\n",
       " 'added',\n",
       " 'addict',\n",
       " 'addicted',\n",
       " 'adding',\n",
       " 'addition',\n",
       " 'additional',\n",
       " 'additionally',\n",
       " 'address',\n",
       " 'adds',\n",
       " 'adequate',\n",
       " 'adequately',\n",
       " 'adjust',\n",
       " 'adjustable',\n",
       " 'adjusted',\n",
       " 'adjusting',\n",
       " 'adjustment',\n",
       " 'adjustments',\n",
       " 'admire',\n",
       " 'admired',\n",
       " 'admiring',\n",
       " 'admit',\n",
       " 'admittedly',\n",
       " 'adn',\n",
       " 'ador',\n",
       " 'adorable',\n",
       " 'adore',\n",
       " 'adored',\n",
       " 'ads',\n",
       " 'adult',\n",
       " 'adults',\n",
       " 'advantage',\n",
       " 'advantages',\n",
       " 'adventure',\n",
       " 'advertised',\n",
       " 'advice',\n",
       " 'advise',\n",
       " 'advised',\n",
       " 'aesthetic',\n",
       " 'aesthetically',\n",
       " 'aesthetics',\n",
       " 'affair',\n",
       " 'affect',\n",
       " 'affected',\n",
       " 'affects',\n",
       " 'afford',\n",
       " 'affordable',\n",
       " 'aforementioned',\n",
       " 'afraid',\n",
       " 'afternoon',\n",
       " 'afterward',\n",
       " 'ag',\n",
       " \"ag's\",\n",
       " 'age',\n",
       " 'age-appropriate',\n",
       " 'aged',\n",
       " 'ages',\n",
       " 'aggressive',\n",
       " 'agin',\n",
       " 'ago',\n",
       " 'agree',\n",
       " 'agreed',\n",
       " 'agreement',\n",
       " 'ags',\n",
       " 'ah',\n",
       " 'ahd',\n",
       " 'ahead',\n",
       " 'ahhh',\n",
       " 'ahs',\n",
       " 'ahve',\n",
       " 'air',\n",
       " 'air-dried',\n",
       " 'air-drying',\n",
       " 'airiness',\n",
       " 'airing',\n",
       " 'airplanes',\n",
       " 'airport',\n",
       " 'airy',\n",
       " 'aize',\n",
       " 'aka',\n",
       " 'akemi',\n",
       " 'al',\n",
       " 'alas',\n",
       " 'alaska',\n",
       " 'albeit',\n",
       " 'alexandria',\n",
       " 'align',\n",
       " 'aligned',\n",
       " 'alike',\n",
       " 'aline',\n",
       " 'alittle',\n",
       " 'all-around',\n",
       " 'all-in',\n",
       " 'all-over',\n",
       " 'alley',\n",
       " 'allison',\n",
       " 'allover',\n",
       " 'allowed',\n",
       " 'allowing',\n",
       " 'allusion',\n",
       " 'alot',\n",
       " 'alpaca',\n",
       " 'alright',\n",
       " 'als',\n",
       " 'alter',\n",
       " 'alteration',\n",
       " 'alterations',\n",
       " 'altered',\n",
       " 'altering',\n",
       " 'alternate',\n",
       " 'alternations',\n",
       " 'alternative',\n",
       " 'altho',\n",
       " 'altogether',\n",
       " 'amadi',\n",
       " 'amalfi',\n",
       " 'amazed',\n",
       " 'amazing',\n",
       " 'amazingly',\n",
       " 'amazon',\n",
       " 'ambiguous',\n",
       " 'amd',\n",
       " 'american',\n",
       " 'amount',\n",
       " 'amounts',\n",
       " 'amp',\n",
       " 'ample',\n",
       " 'amply',\n",
       " 'amterial',\n",
       " 'anatomy',\n",
       " 'and-go',\n",
       " 'angel',\n",
       " 'angeles',\n",
       " 'angle',\n",
       " 'angled',\n",
       " 'angles',\n",
       " 'angora',\n",
       " 'animal',\n",
       " 'animals',\n",
       " 'ankle',\n",
       " 'ankle-length',\n",
       " 'ankles',\n",
       " \"ann's\",\n",
       " 'anna',\n",
       " 'anniversary',\n",
       " 'annoyance',\n",
       " 'annoyed',\n",
       " 'annoying',\n",
       " 'anorak',\n",
       " 'ans',\n",
       " 'answer',\n",
       " 'ant',\n",
       " 'anth',\n",
       " 'anther',\n",
       " 'antho',\n",
       " 'anticipate',\n",
       " 'anticipated',\n",
       " 'anticipating',\n",
       " 'anticipation',\n",
       " 'antique',\n",
       " 'antrho',\n",
       " 'antro',\n",
       " 'anxious',\n",
       " 'anxiously',\n",
       " 'anymore',\n",
       " \"anyone's\",\n",
       " 'anytime',\n",
       " 'app',\n",
       " 'appalled',\n",
       " 'apparel',\n",
       " 'apparent',\n",
       " 'apparently',\n",
       " 'appeal',\n",
       " 'appealed',\n",
       " 'appealing',\n",
       " 'appearance',\n",
       " 'appeared',\n",
       " 'appearing',\n",
       " 'appears',\n",
       " 'apple',\n",
       " 'apple-shaped',\n",
       " 'applied',\n",
       " 'appliqu',\n",
       " 'applique',\n",
       " 'apply',\n",
       " 'appreciated',\n",
       " 'apprehensive',\n",
       " 'approach',\n",
       " 'approaching',\n",
       " 'appropriately',\n",
       " 'approved',\n",
       " 'approx',\n",
       " 'approximate',\n",
       " 'approximately',\n",
       " 'apprx',\n",
       " 'apricot',\n",
       " 'april',\n",
       " 'apron',\n",
       " 'apt',\n",
       " 'aqua',\n",
       " 'ar',\n",
       " 'arc',\n",
       " 'area',\n",
       " 'areas',\n",
       " 'aren',\n",
       " 'arielle',\n",
       " 'arm',\n",
       " 'arm-holes',\n",
       " 'armed',\n",
       " 'armhole',\n",
       " 'armholes',\n",
       " 'armpit',\n",
       " 'armpits',\n",
       " 'arms',\n",
       " 'army',\n",
       " 'arranged',\n",
       " 'arrival',\n",
       " 'arrivals',\n",
       " 'arrive',\n",
       " 'arrived',\n",
       " 'arrives',\n",
       " 'arrows',\n",
       " 'art',\n",
       " 'article',\n",
       " 'articles',\n",
       " 'artist',\n",
       " \"artist's\",\n",
       " 'artistic',\n",
       " 'artsy',\n",
       " 'artwork',\n",
       " 'arty-looking',\n",
       " 'as-is',\n",
       " 'as-pictured',\n",
       " 'asap',\n",
       " 'ashley',\n",
       " 'asia',\n",
       " 'asked',\n",
       " 'aspect',\n",
       " 'aspects',\n",
       " 'assessing',\n",
       " 'assets',\n",
       " 'assistance',\n",
       " 'assistant',\n",
       " 'associate',\n",
       " 'associates',\n",
       " 'assume',\n",
       " 'assumed',\n",
       " 'assuming',\n",
       " 'assumption',\n",
       " 'assured',\n",
       " 'astounded',\n",
       " 'asymmetric',\n",
       " 'asymmetrical',\n",
       " 'asymmetry',\n",
       " 'ate',\n",
       " 'athleisure',\n",
       " 'athlete',\n",
       " 'athletic',\n",
       " 'atl',\n",
       " 'atlanta',\n",
       " 'atleast',\n",
       " 'atrocious',\n",
       " 'attach',\n",
       " 'attached',\n",
       " 'attaches',\n",
       " 'attachment',\n",
       " 'attempt',\n",
       " 'attempted',\n",
       " 'attempting',\n",
       " 'attend',\n",
       " 'attendant',\n",
       " 'attended',\n",
       " 'attending',\n",
       " 'attention',\n",
       " 'attire',\n",
       " 'attitude',\n",
       " 'attracted',\n",
       " 'attracting',\n",
       " 'attractive',\n",
       " 'audrey',\n",
       " 'august',\n",
       " 'aunt',\n",
       " 'australian',\n",
       " 'authentic',\n",
       " 'automatically',\n",
       " 'autumn',\n",
       " 'autumnal',\n",
       " 'avail',\n",
       " 'availability',\n",
       " 'average',\n",
       " 'avid',\n",
       " 'avoid',\n",
       " 'avoided',\n",
       " 'avoiding',\n",
       " 'avoids',\n",
       " 'awaited',\n",
       " 'awaiting',\n",
       " 'awards',\n",
       " 'aware',\n",
       " 'awesome',\n",
       " 'awful',\n",
       " 'awhile',\n",
       " 'awkward',\n",
       " 'awkwardly',\n",
       " 'awkwardness',\n",
       " 'az',\n",
       " 'b-c',\n",
       " 'ba',\n",
       " 'babies',\n",
       " 'baby',\n",
       " 'baby-doll',\n",
       " 'babydoll',\n",
       " 'bac',\n",
       " 'bachelorette',\n",
       " 'back-ordered',\n",
       " 'back-up',\n",
       " 'backed',\n",
       " 'background',\n",
       " 'backorder',\n",
       " 'backordered',\n",
       " 'backpack',\n",
       " 'backs',\n",
       " 'backside',\n",
       " 'backup',\n",
       " 'backward',\n",
       " 'backwards',\n",
       " 'backyard',\n",
       " 'bad',\n",
       " 'badly',\n",
       " 'bag',\n",
       " 'bagged',\n",
       " 'baggie',\n",
       " 'baggier',\n",
       " 'bagginess',\n",
       " 'bagging',\n",
       " 'baggy',\n",
       " 'bags',\n",
       " 'bailey',\n",
       " 'baily',\n",
       " 'balance',\n",
       " 'balanced',\n",
       " 'balances',\n",
       " 'balck',\n",
       " 'balked',\n",
       " 'ball',\n",
       " 'ballet',\n",
       " 'balloon',\n",
       " 'ballooned',\n",
       " 'balloons',\n",
       " 'balloony',\n",
       " 'balls',\n",
       " 'bam',\n",
       " 'band',\n",
       " 'bandage',\n",
       " 'bandeau',\n",
       " 'banded',\n",
       " 'banding',\n",
       " 'bands',\n",
       " 'bank',\n",
       " 'bar',\n",
       " 'barbecue',\n",
       " 'bare',\n",
       " 'barefoot',\n",
       " 'barely',\n",
       " 'bargain',\n",
       " 'barley',\n",
       " 'baroque',\n",
       " 'barre',\n",
       " 'barrel',\n",
       " 'base',\n",
       " 'baseball',\n",
       " 'based',\n",
       " 'basic',\n",
       " 'basically',\n",
       " 'basics',\n",
       " 'basis',\n",
       " 'basket',\n",
       " 'basketball',\n",
       " 'basketweave',\n",
       " 'bat',\n",
       " 'batch',\n",
       " 'batches',\n",
       " 'bath',\n",
       " 'bathing',\n",
       " 'bathrobe',\n",
       " 'bathroom',\n",
       " 'battle',\n",
       " 'batwing',\n",
       " 'batwings',\n",
       " 'bay',\n",
       " 'bbq',\n",
       " 'bc',\n",
       " 'bday',\n",
       " 'bea',\n",
       " 'beach',\n",
       " 'beachy',\n",
       " 'bead',\n",
       " 'beaded',\n",
       " 'beading',\n",
       " 'beads',\n",
       " 'beadwork',\n",
       " 'bear',\n",
       " 'beat',\n",
       " 'beauties',\n",
       " 'beautifu',\n",
       " 'beautiful',\n",
       " 'beautifully',\n",
       " 'beautify',\n",
       " 'beauty',\n",
       " 'bec',\n",
       " 'beca',\n",
       " 'becasue',\n",
       " 'becau',\n",
       " 'becaus',\n",
       " 'becuase',\n",
       " 'bed',\n",
       " 'bedtime',\n",
       " 'bee',\n",
       " 'beef',\n",
       " 'bees',\n",
       " 'began',\n",
       " 'begging',\n",
       " 'begin',\n",
       " 'beginning',\n",
       " 'begins',\n",
       " 'behold',\n",
       " 'beige',\n",
       " 'bein',\n",
       " 'bel',\n",
       " 'bell',\n",
       " 'bell-sleeve',\n",
       " 'belled',\n",
       " 'bellow',\n",
       " 'bells',\n",
       " 'belly',\n",
       " 'bellybutton',\n",
       " 'belonged',\n",
       " 'beloved',\n",
       " 'belt',\n",
       " 'belted',\n",
       " 'belting',\n",
       " 'belts',\n",
       " 'bend',\n",
       " 'bending',\n",
       " 'beneath',\n",
       " 'benefit',\n",
       " 'bent',\n",
       " 'bermuda',\n",
       " 'berry',\n",
       " 'bes',\n",
       " 'bet',\n",
       " 'bette',\n",
       " 'betty',\n",
       " 'beware',\n",
       " 'bf',\n",
       " 'bff',\n",
       " 'bi',\n",
       " 'bias',\n",
       " 'biased',\n",
       " 'bib',\n",
       " 'bicep',\n",
       " 'biceps',\n",
       " 'bicycle',\n",
       " 'bid',\n",
       " 'big',\n",
       " 'bigger',\n",
       " 'biggest',\n",
       " 'biggie',\n",
       " 'biggish',\n",
       " 'biker',\n",
       " 'bikini',\n",
       " 'bikinis',\n",
       " 'bill',\n",
       " 'billow',\n",
       " 'billowed',\n",
       " 'billowing',\n",
       " 'billows',\n",
       " 'billowy',\n",
       " 'bind',\n",
       " 'binder',\n",
       " 'binding',\n",
       " 'bingo',\n",
       " 'bird',\n",
       " 'birds',\n",
       " 'birkenstocks',\n",
       " 'birth',\n",
       " 'birthday',\n",
       " 'bit',\n",
       " 'bite',\n",
       " 'bits',\n",
       " 'bitter',\n",
       " 'bizarre',\n",
       " 'bl',\n",
       " 'black',\n",
       " 'black-and',\n",
       " 'blacks',\n",
       " 'blades',\n",
       " 'blah',\n",
       " 'bland',\n",
       " 'blank',\n",
       " 'blanket',\n",
       " 'blankets',\n",
       " 'blazer',\n",
       " 'blazers',\n",
       " 'blazing',\n",
       " 'bleach',\n",
       " 'bleached',\n",
       " 'bled',\n",
       " 'bleed',\n",
       " 'blend',\n",
       " 'blends',\n",
       " 'blessed',\n",
       " 'blight',\n",
       " 'blindly',\n",
       " 'bling',\n",
       " 'blk',\n",
       " 'bloated',\n",
       " 'blob',\n",
       " 'block',\n",
       " 'blocked',\n",
       " 'blocking',\n",
       " 'blocks',\n",
       " 'blog',\n",
       " 'blogger',\n",
       " 'blond',\n",
       " 'blonde',\n",
       " 'blood',\n",
       " 'bloom',\n",
       " 'blossoms',\n",
       " 'blotchy',\n",
       " 'blouse',\n",
       " 'blouse-y',\n",
       " 'bloused',\n",
       " 'blouses',\n",
       " 'blousey',\n",
       " 'blousing',\n",
       " 'blouson',\n",
       " 'blousy',\n",
       " 'blow',\n",
       " 'blown',\n",
       " 'blows',\n",
       " 'blowzy',\n",
       " 'blu',\n",
       " 'blue',\n",
       " 'blue-green',\n",
       " 'blue-grey',\n",
       " 'blue-ish',\n",
       " 'blueish',\n",
       " 'blues',\n",
       " 'bluish',\n",
       " 'bluishgreen',\n",
       " 'blush',\n",
       " 'bo',\n",
       " 'board',\n",
       " 'boarder',\n",
       " 'boardwalk',\n",
       " 'boat',\n",
       " 'boat-neck',\n",
       " 'boatneck',\n",
       " 'bod',\n",
       " 'bodice',\n",
       " 'bodies',\n",
       " 'body',\n",
       " 'body-hugging',\n",
       " 'body-skimming',\n",
       " 'body-type',\n",
       " 'bodycon',\n",
       " 'bodysuit',\n",
       " 'bodytype',\n",
       " 'bog',\n",
       " 'bohemian',\n",
       " 'boho',\n",
       " 'boho-chic',\n",
       " 'boiled',\n",
       " 'bold',\n",
       " 'bolder',\n",
       " 'bolero',\n",
       " 'bomb',\n",
       " 'bomber',\n",
       " 'bomber-style',\n",
       " 'bone',\n",
       " 'boned',\n",
       " 'bones',\n",
       " 'boning',\n",
       " 'bonnet',\n",
       " 'bonus',\n",
       " 'boo',\n",
       " 'boob',\n",
       " 'boobs',\n",
       " 'book',\n",
       " 'books',\n",
       " 'boost',\n",
       " 'boot',\n",
       " 'bootcut',\n",
       " 'bootie',\n",
       " 'booties',\n",
       " 'boots',\n",
       " 'booty',\n",
       " 'bordeaux',\n",
       " 'border',\n",
       " 'bordered',\n",
       " 'borderline',\n",
       " 'borders',\n",
       " 'boring',\n",
       " 'born',\n",
       " 'borrow',\n",
       " 'borrowed',\n",
       " 'bosom',\n",
       " 'boston',\n",
       " 'bot',\n",
       " 'bother',\n",
       " 'bothered',\n",
       " 'bothers',\n",
       " 'bothersome',\n",
       " 'bottom',\n",
       " 'bottom-heavy',\n",
       " 'bottoms',\n",
       " 'bottons',\n",
       " 'boucle',\n",
       " 'bough',\n",
       " 'bounce',\n",
       " 'bouncy',\n",
       " 'bow',\n",
       " 'bows',\n",
       " 'box',\n",
       " 'boxes',\n",
       " 'boxier',\n",
       " 'boxiness',\n",
       " 'boxing',\n",
       " 'boxy',\n",
       " 'boy',\n",
       " 'boyfriend',\n",
       " 'boyfriends',\n",
       " 'boyish',\n",
       " 'boyleg',\n",
       " 'boys',\n",
       " 'br',\n",
       " 'bra',\n",
       " 'bra-less',\n",
       " 'bra-straps',\n",
       " 'bracelet',\n",
       " 'braided',\n",
       " 'brainer',\n",
       " 'braless',\n",
       " 'bralette',\n",
       " 'bralettes',\n",
       " 'branch',\n",
       " 'branches',\n",
       " 'brand',\n",
       " 'brands',\n",
       " 'bras',\n",
       " 'brass',\n",
       " 'break',\n",
       " 'breaker',\n",
       " 'breakers',\n",
       " 'breaking',\n",
       " 'breaks',\n",
       " 'breast',\n",
       " 'breasted',\n",
       " 'breastfeeding',\n",
       " 'breasting',\n",
       " 'breasts',\n",
       " 'breath',\n",
       " 'breathable',\n",
       " 'breathe',\n",
       " 'breathes',\n",
       " 'breathing',\n",
       " 'breathtaking',\n",
       " 'breeze',\n",
       " 'breezy',\n",
       " 'breton',\n",
       " 'brick',\n",
       " 'bridal',\n",
       " 'bride',\n",
       " 'bridesmaid',\n",
       " 'bridesmaids',\n",
       " 'briefly',\n",
       " 'briefs',\n",
       " 'bright',\n",
       " 'brighten',\n",
       " 'brightens',\n",
       " 'brighter',\n",
       " 'brightness',\n",
       " 'brilliant',\n",
       " 'bring',\n",
       " 'bringing',\n",
       " 'brings',\n",
       " 'brioche',\n",
       " 'brisk',\n",
       " 'british',\n",
       " 'broach',\n",
       " 'broad',\n",
       " 'broad-shouldered',\n",
       " 'broaden',\n",
       " 'broadened',\n",
       " 'broader',\n",
       " 'brocade',\n",
       " 'broke',\n",
       " 'broken',\n",
       " 'bronze',\n",
       " 'brooklyn',\n",
       " \"brother's\",\n",
       " 'brought',\n",
       " 'brown',\n",
       " 'brownish',\n",
       " 'browns',\n",
       " 'browse',\n",
       " 'browsing',\n",
       " 'brunch',\n",
       " 'brunette',\n",
       " 'brush',\n",
       " 'brushed',\n",
       " 'brushing',\n",
       " 'bs',\n",
       " 'btu',\n",
       " 'btw',\n",
       " 'bu',\n",
       " 'bubble',\n",
       " 'bubble-like',\n",
       " 'bubbled',\n",
       " 'bubbles',\n",
       " 'buckle',\n",
       " 'buckled',\n",
       " 'buckles',\n",
       " 'bucks',\n",
       " 'budge',\n",
       " 'budget',\n",
       " 'bug',\n",
       " 'bugs',\n",
       " 'build',\n",
       " 'building',\n",
       " 'builds',\n",
       " 'built',\n",
       " 'built-in',\n",
       " 'bulge',\n",
       " 'bulged',\n",
       " 'bulges',\n",
       " 'bulging',\n",
       " 'bulk',\n",
       " 'bulkier',\n",
       " 'bulkiness',\n",
       " 'bulky',\n",
       " 'bullet',\n",
       " 'bum',\n",
       " 'bummed',\n",
       " 'bummer',\n",
       " 'bump',\n",
       " 'bumped',\n",
       " 'bumps',\n",
       " 'bumpy',\n",
       " 'bun',\n",
       " 'bunch',\n",
       " 'bunched',\n",
       " 'bunches',\n",
       " 'bunching',\n",
       " 'bunchy',\n",
       " 'bundle',\n",
       " 'burgers',\n",
       " 'burgundy',\n",
       " 'burlap',\n",
       " 'burn',\n",
       " 'burned',\n",
       " 'burnout',\n",
       " 'burns',\n",
       " 'burnt',\n",
       " 'burst',\n",
       " 'bus',\n",
       " 'business',\n",
       " 'business-casual',\n",
       " 'bust',\n",
       " 'bust-line',\n",
       " 'busted',\n",
       " 'bustier',\n",
       " 'busting',\n",
       " 'bustline',\n",
       " 'busts',\n",
       " 'busty',\n",
       " 'busy',\n",
       " 'butt',\n",
       " 'butter',\n",
       " 'butterflies',\n",
       " 'butterfly',\n",
       " 'buttery',\n",
       " 'button',\n",
       " 'button-down',\n",
       " 'button-front',\n",
       " 'button-up',\n",
       " 'buttondown',\n",
       " 'buttoned',\n",
       " 'buttoned-up',\n",
       " 'buttonhole',\n",
       " 'buttonholes',\n",
       " 'buttoning',\n",
       " 'buttons',\n",
       " 'butts',\n",
       " 'buy',\n",
       " 'buyer',\n",
       " 'buyers',\n",
       " 'buyi',\n",
       " 'buying',\n",
       " 'byron',\n",
       " 'c-cup',\n",
       " 'c-d',\n",
       " 'ca',\n",
       " 'cable',\n",
       " 'cacti',\n",
       " 'cafe',\n",
       " 'caftan',\n",
       " 'cage',\n",
       " 'cake',\n",
       " 'cal',\n",
       " 'calf',\n",
       " 'cali',\n",
       " 'california',\n",
       " 'call',\n",
       " 'called',\n",
       " 'calling',\n",
       " 'calls',\n",
       " 'calves',\n",
       " 'cam',\n",
       " 'camel',\n",
       " 'camera',\n",
       " 'cami',\n",
       " \"cami's\",\n",
       " 'camis',\n",
       " 'camisol',\n",
       " 'camisole',\n",
       " 'camisoles',\n",
       " 'camo',\n",
       " 'camouflage',\n",
       " 'camouflages',\n",
       " 'camouflaging',\n",
       " 'camp',\n",
       " 'campus',\n",
       " 'cancel',\n",
       " 'cancelled',\n",
       " 'cancer',\n",
       " 'canvas',\n",
       " 'canvas-y',\n",
       " 'cap',\n",
       " 'cape',\n",
       " 'capes',\n",
       " 'capped',\n",
       " 'capri',\n",
       " 'capris',\n",
       " 'capsule',\n",
       " 'capture',\n",
       " 'car',\n",
       " 'caramel',\n",
       " 'carbon',\n",
       " 'card',\n",
       " 'cardi',\n",
       " 'cardigan',\n",
       " 'cardigans',\n",
       " 'cardio',\n",
       " 'cardis',\n",
       " 'care',\n",
       " 'carefree',\n",
       " 'careful',\n",
       " 'carefully',\n",
       " 'cares',\n",
       " 'cargo',\n",
       " 'cargos',\n",
       " 'caribbean',\n",
       " 'carissima',\n",
       " 'carpet',\n",
       " 'carried',\n",
       " 'carries',\n",
       " 'carry',\n",
       " 'carrying',\n",
       " 'cart',\n",
       " 'cartonnier',\n",
       " 'cartoon',\n",
       " 'cartoonish',\n",
       " 'cas',\n",
       " 'cascade',\n",
       " 'cascades',\n",
       " 'case',\n",
       " 'cases',\n",
       " 'cash',\n",
       " 'cashier',\n",
       " 'cashmere',\n",
       " 'casing',\n",
       " 'casu',\n",
       " 'casual',\n",
       " 'casually',\n",
       " 'cat',\n",
       " 'catalog',\n",
       " 'catalogue',\n",
       " 'catch',\n",
       " 'catcher',\n",
       " 'catches',\n",
       " 'catching',\n",
       " 'catchy',\n",
       " 'categorized',\n",
       " 'category',\n",
       " 'cats',\n",
       " 'caught',\n",
       " 'causal',\n",
       " 'caused',\n",
       " 'causing',\n",
       " 'caution',\n",
       " 'cautious',\n",
       " 'cave',\n",
       " 'caveat',\n",
       " 'caved',\n",
       " 'cc',\n",
       " 'ceases',\n",
       " 'cedar',\n",
       " 'cehst',\n",
       " 'celadon',\n",
       " 'celebrate',\n",
       " 'celebration',\n",
       " 'cell',\n",
       " 'cellophane',\n",
       " 'cellulite',\n",
       " 'center',\n",
       " 'centered',\n",
       " 'cents',\n",
       " 'ceremony',\n",
       " 'ch',\n",
       " 'chain',\n",
       " 'chair',\n",
       " 'challenge',\n",
       " 'challenged',\n",
       " 'challenges',\n",
       " 'challenging',\n",
       " ...]"
      ]
     },
     "execution_count": 91,
     "metadata": {},
     "output_type": "execute_result"
    }
   ],
   "source": [
    "# check the vocab \n",
    "vocab "
   ]
  },
  {
   "cell_type": "code",
   "execution_count": 92,
   "metadata": {},
   "outputs": [
    {
     "name": "stdout",
     "output_type": "stream",
     "text": [
      "(19652, 7529)\n"
     ]
    }
   ],
   "source": [
    "# generate the count vector representation for all processed reviews\n",
    "count_features = cVectorizer.fit_transform([' '.join(review) for review in tk_reviews]) \n",
    "print(count_features.shape)"
   ]
  },
  {
   "cell_type": "code",
   "execution_count": 93,
   "metadata": {},
   "outputs": [],
   "source": [
    "# generate the revert vocabulary which support to be used in the embedding\n",
    "reversed__vocab_dict = {v: k for k, v in vocab_dict.items()}"
   ]
  },
  {
   "cell_type": "code",
   "execution_count": 94,
   "metadata": {},
   "outputs": [],
   "source": [
    "# func to validate t\n",
    "def validator(data_features, vocab, a_ind,tokenised_articles):\n",
    "    print(\"Review ID:\", df['Clothing ID'][a_ind]) # print out the Article ID\n",
    "    print(\"--------------------------------------------\")\n",
    "    print(\"Review txt:\",df['Processed Review Text'][a_ind]) # print out the txt of the article\n",
    "    print(\"Review tokens:\",tokenised_articles[a_ind]) # print out the tokens of the article\n",
    "    print(\"--------------------------------------------\\n\")\n",
    "    print(\"Vector representation:\\n\") # printing the vector representation as format 'word:value' (\n",
    "                                      # the value is 0 or 1 in for binary vector; an integer for count vector; and a float value for tfidf\n",
    "\n",
    "    for word, value in zip(vocab, data_features.toarray()[a_ind]): \n",
    "        if value > 0:\n",
    "            print(word+\":\"+str(value), end =' ')\n",
    "    print(\"\\n--------------------------------------------\\n\")\n",
    "    for word, value in zip(vocab, data_features.toarray()[a_ind]): \n",
    "        if value > 0:\n",
    "            print(str(reversed__vocab_dict[word])+\":\"+str(value), end =' ')\n"
   ]
  },
  {
   "cell_type": "code",
   "execution_count": 95,
   "metadata": {},
   "outputs": [
    {
     "name": "stdout",
     "output_type": "stream",
     "text": [
      "Review ID: 1077\n",
      "--------------------------------------------\n",
      "Review txt: high hopes wanted work initially petite usual found outrageously fact zip reordered petite medium half nicely bottom half tight layer cheap net layers imo major design flaw net layer sewn directly zipper\n",
      "Review tokens: ['high', 'hopes', 'wanted', 'work', 'initially', 'petite', 'usual', 'found', 'outrageously', 'fact', 'zip', 'reordered', 'petite', 'medium', 'half', 'nicely', 'bottom', 'half', 'tight', 'layer', 'cheap', 'net', 'layers', 'imo', 'major', 'design', 'flaw', 'net', 'layer', 'sewn', 'directly', 'zipper']\n",
      "--------------------------------------------\n",
      "\n",
      "Vector representation:\n",
      "\n",
      "bottom:1 cheap:1 design:1 directly:1 fact:1 flaw:1 found:1 half:2 high:1 hopes:1 imo:1 initially:1 layer:2 layers:1 major:1 medium:1 net:2 nicely:1 outrageously:1 petite:2 reordered:1 sewn:1 tight:1 usual:1 wanted:1 work:1 zip:1 zipper:1 \n",
      "--------------------------------------------\n",
      "\n",
      "687:1 1028:1 1716:1 1792:1 2289:1 2481:1 2602:1 2892:2 3010:1 3087:1 3193:1 3258:1 3549:2 3552:1 3832:1 3934:1 4224:2 4234:1 4427:1 4639:2 5260:1 5668:1 6726:1 7092:1 7207:1 7406:1 7520:1 7522:1 "
     ]
    }
   ],
   "source": [
    "validator(count_features,vocab,0,tk_reviews)"
   ]
  },
  {
   "cell_type": "code",
   "execution_count": 96,
   "metadata": {},
   "outputs": [
    {
     "data": {
      "text/plain": [
       "(19652, 7529)"
      ]
     },
     "execution_count": 96,
     "metadata": {},
     "output_type": "execute_result"
    }
   ],
   "source": [
    "# check shape count features\n",
    "count_features.shape"
   ]
  },
  {
   "cell_type": "markdown",
   "metadata": {},
   "source": [
    "### Saving outputs\n",
    "Save the count vector representation as per spectification.\n",
    "- count_vectors.txt"
   ]
  },
  {
   "cell_type": "code",
   "execution_count": 97,
   "metadata": {},
   "outputs": [],
   "source": [
    "def write_vectorFile(data_features, clothing_ids, filename):\n",
    "    num = data_features.shape[0]  # the number of documents\n",
    "    print(\"DEBUG_num_documents:\", num)\n",
    "    with open(filename, 'w') as out_file:\n",
    "        for a_ind in range(num):  # loop through each document\n",
    "            out_file.write(f\"#{clothing_ids[a_ind]},\")  # start with clothing ID\n",
    "            \n",
    "            # Get non-zero indices in the sparse row\n",
    "            nonzero_indices = data_features[a_ind].nonzero()[1]\n",
    "            if a_ind == 0:\n",
    "                # Debugging output for the first document\n",
    "                print(\"DEBUG_first_document:\", a_ind)\n",
    "                print(\"DEBUG_nonzero_indices:\", nonzero_indices)\n",
    "\n",
    "            # If there are any non-zero features\n",
    "            if len(nonzero_indices) > 0:\n",
    "                for f_ind in nonzero_indices:\n",
    "                    value = data_features[a_ind][0, f_ind]  # safe, works because row shape is (1, n_features)\n",
    "                    out_file.write(f\"{f_ind}:{value} \")\n",
    "            \n",
    "            out_file.write('\\n')  # new line for next review"
   ]
  },
  {
   "cell_type": "code",
   "execution_count": 98,
   "metadata": {},
   "outputs": [
    {
     "name": "stdout",
     "output_type": "stream",
     "text": [
      "DEBUG_num_documents: 19652\n",
      "DEBUG_first_document: 0\n",
      "DEBUG_nonzero_indices: [ 687 1028 1716 1792 2289 2481 2602 2892 3010 3087 3193 3258 3549 3552\n",
      " 3832 3934 4224 4234 4427 4639 5260 5668 6726 7092 7207 7406 7520 7522]\n"
     ]
    }
   ],
   "source": [
    "cVector_file = \"./count_vectors.txt\" # file name of the count vector\n",
    "write_vectorFile(count_features, df['Clothing ID'].tolist(), 'count_vectors.txt')"
   ]
  },
  {
   "cell_type": "markdown",
   "metadata": {},
   "source": [
    "### Task 2.2. Models based on word embeddings:\n",
    "Using the Glove as the language model\n",
    "- Unweighted Word Embeddings (GloVe)\n",
    "- TF-IDF Weighted Word Embeddings (GloVe)"
   ]
  },
  {
   "cell_type": "code",
   "execution_count": 99,
   "metadata": {},
   "outputs": [],
   "source": [
    "# Add each tokenized review to the dataframe\n",
    "df[\"tk_review_text\"] = tk_reviews"
   ]
  },
  {
   "cell_type": "code",
   "execution_count": 100,
   "metadata": {},
   "outputs": [],
   "source": [
    "# load the GloVe embeddings\n",
    "with open('glove/glove.6B.50d.txt') as f:\n",
    "    keys, weights = [], []\n",
    "    for l in f:\n",
    "        k, v = l.split(maxsplit=1)\n",
    "        keys.append(k)\n",
    "        weights.append(np.fromstring(v, sep=' '))\n",
    "glove_embeddings = KeyedVectors(50, count=400000)\n",
    "glove_embeddings.add_vectors(keys, weights)\n",
    "preTGloVe_wv = glove_embeddings"
   ]
  },
  {
   "cell_type": "markdown",
   "metadata": {},
   "source": [
    "Build the unweighted vector representation for each clothing review\n"
   ]
  },
  {
   "cell_type": "code",
   "execution_count": 101,
   "metadata": {},
   "outputs": [],
   "source": [
    "def gen_docVecs(embeddings, docs):\n",
    "    vecs = np.zeros((len(docs), embeddings.vector_size))\n",
    "    for i, doc in enumerate(docs):\n",
    "        valid_keys = [term for term in doc if term in embeddings.key_to_index]\n",
    "        if valid_keys:  # Only process if there are valid keys\n",
    "            try:\n",
    "                docvec = np.vstack([embeddings[term] for term in valid_keys])\n",
    "                docvec = np.sum(docvec, axis=0)\n",
    "                vecs[i,:] = docvec\n",
    "            except Exception as e:\n",
    "                print(f\"Error processing document {i}: {e}\")\n",
    "        # If no valid keys, the vector remains as zeros\n",
    "    return vecs"
   ]
  },
  {
   "cell_type": "code",
   "execution_count": 102,
   "metadata": {},
   "outputs": [
    {
     "data": {
      "text/plain": [
       "800000"
      ]
     },
     "execution_count": 102,
     "metadata": {},
     "output_type": "execute_result"
    }
   ],
   "source": [
    "len(preTGloVe_wv)"
   ]
  },
  {
   "cell_type": "code",
   "execution_count": 155,
   "metadata": {},
   "outputs": [
    {
     "data": {
      "text/plain": [
       "50"
      ]
     },
     "execution_count": 155,
     "metadata": {},
     "output_type": "execute_result"
    }
   ],
   "source": [
    "preTGloVe_wv.vector_size"
   ]
  },
  {
   "cell_type": "code",
   "execution_count": 103,
   "metadata": {},
   "outputs": [
    {
     "data": {
      "text/plain": [
       "0"
      ]
     },
     "execution_count": 103,
     "metadata": {},
     "output_type": "execute_result"
    }
   ],
   "source": [
    "# NOTE this can take some time to finish running\n",
    "# Build the unweighted vector representation for the documents\n",
    "preTGloVe_dvs = gen_docVecs(preTGloVe_wv,df['tk_review_text']) # generate document embeddings\n",
    "np.isnan(preTGloVe_dvs).any().sum() # check if there are any NaN values in the document vectors"
   ]
  },
  {
   "cell_type": "markdown",
   "metadata": {},
   "source": [
    "Build the weighted vector representation for each clothing review\n"
   ]
  },
  {
   "cell_type": "code",
   "execution_count": 104,
   "metadata": {},
   "outputs": [
    {
     "data": {
      "text/plain": [
       "(19652, 7529)"
      ]
     },
     "execution_count": 104,
     "metadata": {},
     "output_type": "execute_result"
    }
   ],
   "source": [
    "# Generating TF-IDF Vectors\n",
    "tVectorizer = TfidfVectorizer(analyzer = 'word', vocabulary=vocab)\n",
    "tfidf_features = tVectorizer.fit_transform([' '.join(review) for review in tk_reviews])\n",
    "tfidf_features.shape"
   ]
  },
  {
   "cell_type": "code",
   "execution_count": 105,
   "metadata": {},
   "outputs": [],
   "source": [
    "# Create tfidf weights based on the vocab_dict and tfidf_features\n",
    "def create_tfidf_weights(tfidf_features, vocab_dict):\n",
    "    \"\"\"\n",
    "    Create a list of word:weight dictionaries for each document\n",
    "    \n",
    "    Parameters:\n",
    "    -----------\n",
    "    tfidf_features : scipy.sparse.csr_matrix\n",
    "        TF-IDF features from the TfidfVectorizer\n",
    "    vocab : list\n",
    "        List of vocabulary words\n",
    "    vocab_dict : dict\n",
    "        Dictionary mapping word indices to words\n",
    "        \n",
    "    Returns:\n",
    "    --------\n",
    "    list\n",
    "        List of dictionaries, each containing word:weight pairs for a document\n",
    "    \"\"\"\n",
    "    tfidf_weights = []\n",
    "    \n",
    "    # For each document\n",
    "    for i in range(tfidf_features.shape[0]):\n",
    "        # Get the document's sparse row\n",
    "        row = tfidf_features[i]\n",
    "        # Get non-zero indices and values\n",
    "        nonzero_indices = row.nonzero()[1]\n",
    "        nonzero_values = row.data\n",
    "        \n",
    "        # Create word:weight dictionary for this document\n",
    "        wordweight_dict = {}\n",
    "        for idx, weight in zip(nonzero_indices, nonzero_values):\n",
    "            word = vocab_dict[idx]  # Get the word from vocab using the index\n",
    "            wordweight_dict[word] = str(weight)  # Convert weight to string to match original function\n",
    "            \n",
    "        tfidf_weights.append(wordweight_dict)\n",
    "        \n",
    "    return tfidf_weights\n"
   ]
  },
  {
   "cell_type": "code",
   "execution_count": 106,
   "metadata": {},
   "outputs": [],
   "source": [
    "# Get the TF-IDF weights\n",
    "tfidf_weights = create_tfidf_weights(tfidf_features, vocab_dict)"
   ]
  },
  {
   "cell_type": "code",
   "execution_count": 107,
   "metadata": {},
   "outputs": [
    {
     "data": {
      "text/plain": [
       "{'zipper': '0.13796655643162234',\n",
       " 'zip': '0.15790936302533073',\n",
       " 'work': '0.08942754431903749',\n",
       " 'wanted': '0.10688230992054923',\n",
       " 'usual': '0.1108979967093157',\n",
       " 'tight': '0.09944270371682062',\n",
       " 'sewn': '0.15731076193390778',\n",
       " 'reordered': '0.20116611478729465',\n",
       " 'petite': '0.17993461419688872',\n",
       " 'outrageously': '0.2567966207221875',\n",
       " 'nicely': '0.11400095142158763',\n",
       " 'net': '0.4867876227942154',\n",
       " 'medium': '0.09045659947118836',\n",
       " 'major': '0.19468911285051188',\n",
       " 'layers': '0.16401760637664864',\n",
       " 'layer': '0.2738967869996706',\n",
       " 'initially': '0.17097793161240013',\n",
       " 'imo': '0.19309847172209627',\n",
       " 'hopes': '0.16844705121993458',\n",
       " 'high': '0.10509713403953778',\n",
       " 'half': '0.29992142257858656',\n",
       " 'found': '0.11016820762903567',\n",
       " 'flaw': '0.1869368578273477',\n",
       " 'fact': '0.14687037381367216',\n",
       " 'directly': '0.22042366265962396',\n",
       " 'design': '0.0981905331970358',\n",
       " 'cheap': '0.13834681733551207',\n",
       " 'bottom': '0.10490905048781156'}"
      ]
     },
     "execution_count": 107,
     "metadata": {},
     "output_type": "execute_result"
    }
   ],
   "source": [
    "tfidf_weights[0] # check the first review's word:weight dictionary"
   ]
  },
  {
   "cell_type": "code",
   "execution_count": 108,
   "metadata": {},
   "outputs": [],
   "source": [
    "# func build TF-IDF weighted document vectors\n",
    "def weighted_docvecs(embeddings, tfidf, docs):\n",
    "    vecs = np.zeros((len(docs), embeddings.vector_size))\n",
    "    for i, doc in enumerate(docs):\n",
    "        valid_keys = [term for term in doc if term in embeddings.key_to_index]\n",
    "        \n",
    "        # Skip empty documents\n",
    "        if not valid_keys:\n",
    "            continue\n",
    "            \n",
    "        tf_weights = [float(tfidf[i].get(term, 0.)) for term in valid_keys]\n",
    "        \n",
    "        # Filter out terms with zero weights\n",
    "        valid_terms_weights = [(term, w) for term, w in zip(valid_keys, tf_weights) if w > 0]\n",
    "        \n",
    "        # Skip if no terms have positive weights\n",
    "        if not valid_terms_weights:\n",
    "            continue\n",
    "            \n",
    "        # Unpack the filtered terms and weights\n",
    "        valid_terms, weights = zip(*valid_terms_weights)\n",
    "        \n",
    "        # Create weighted vectors\n",
    "        weighted = [embeddings[term] * w for term, w in zip(valid_terms, weights)]\n",
    "        \n",
    "        # Sum the weighted vectors\n",
    "        docvec = np.vstack(weighted)\n",
    "        docvec = np.sum(docvec, axis=0)\n",
    "        vecs[i,:] = docvec\n",
    "    \n",
    "    return vecs"
   ]
  },
  {
   "cell_type": "code",
   "execution_count": 109,
   "metadata": {},
   "outputs": [],
   "source": [
    "# Build weighted \n",
    "weighted_preTGloVe_dvs = weighted_docvecs(preTGloVe_wv, tfidf_weights, df['tk_review_text'])"
   ]
  },
  {
   "cell_type": "markdown",
   "metadata": {},
   "source": [
    "#### So on task 2, we build weighted, unweighted, and embedding representations for reviews, corresponding to weighted_preTGloVe_dvs, preTGloVe_dvs, and count_features.\n",
    "\n"
   ]
  },
  {
   "cell_type": "markdown",
   "metadata": {},
   "source": [
    "## Task 3. Clothing Review Classification"
   ]
  },
  {
   "cell_type": "markdown",
   "metadata": {},
   "source": [
    "Implement classification models to predict clothing review recommendations and compare different language models and information sources.\n",
    "\n",
    "### 3.1 Q1: Language Model Comparisons\n",
    "Let's move onto the document classification task, we have prepared before:\n",
    "* the data features (count, unweighted, and weighted vectors) for all reviews, store in lists (`count_features`, and `preTGloVe_dvs`, `weighted_preTGloVe_dvs`);\n",
    "* the list of labels."
   ]
  },
  {
   "cell_type": "code",
   "execution_count": 110,
   "metadata": {},
   "outputs": [],
   "source": [
    "# Get the labels as the target variable\n",
    "labels = df['Recommended IND']"
   ]
  },
  {
   "cell_type": "code",
   "execution_count": 111,
   "metadata": {},
   "outputs": [
    {
     "data": {
      "text/plain": [
       "19652"
      ]
     },
     "execution_count": 111,
     "metadata": {},
     "output_type": "execute_result"
    }
   ],
   "source": [
    "# Check the length of the labels\n",
    "len(labels)"
   ]
  },
  {
   "cell_type": "code",
   "execution_count": 112,
   "metadata": {},
   "outputs": [
    {
     "data": {
      "image/png": "[encoded data removed]",
      "text/plain": [
       "<Figure size 720x432 with 1 Axes>"
      ]
     },
     "metadata": {
      "needs_background": "light"
     },
     "output_type": "display_data"
    }
   ],
   "source": [
    "# Build to check the labels imbalance or balance\n",
    "# Group data by Recommended IND and count occurrences\n",
    "recommendation_counts = df.groupby('Recommended IND').size()\n",
    "\n",
    "# Plot the distribution of recommendations\n",
    "plt.figure(figsize=(10, 6))\n",
    "recommendation_counts.plot(kind='bar', color=['#FF9999', '#66B2FF'])\n",
    "\n",
    "# Add labels and title\n",
    "plt.xlabel('Recommendation Status (0=Not Recommended, 1=Recommended)')\n",
    "plt.ylabel('Number of Reviews')\n",
    "plt.title('Distribution of Recommendations in Reviews')\n",
    "plt.xticks(rotation=0)  # Keep x-labels horizontal\n",
    "\n",
    "# Add count labels on top of bars\n",
    "for i, count in enumerate(recommendation_counts):\n",
    "    plt.text(i, count + 5, f'{count}', ha='center')\n",
    "\n",
    "# Add grid lines for better readability\n",
    "plt.grid(axis='y', linestyle='--', alpha=0.7)\n",
    "plt.tight_layout()\n",
    "\n",
    "# Show the plot\n",
    "plt.show()"
   ]
  },
  {
   "cell_type": "code",
   "execution_count": 113,
   "metadata": {},
   "outputs": [
    {
     "name": "stdout",
     "output_type": "stream",
     "text": [
      "Recommended to Not Recommended ratio: 4.50\n",
      "Not Recommended: 18.19%\n",
      "Recommended: 81.81%\n"
     ]
    }
   ],
   "source": [
    "# Calculate imbalance ratio\n",
    "rec_ratio = recommendation_counts[1] / recommendation_counts[0]\n",
    "print(f\"Recommended to Not Recommended ratio: {rec_ratio:.2f}\")\n",
    "\n",
    "# Calculate percentage of each class\n",
    "total = recommendation_counts.sum()\n",
    "print(f\"Not Recommended: {recommendation_counts[0]/total*100:.2f}%\")\n",
    "print(f\"Recommended: {recommendation_counts[1]/total*100:.2f}%\")"
   ]
  },
  {
   "cell_type": "markdown",
   "metadata": {},
   "source": [
    "Note: The recommendation data is imbalanced, we should use F1-score to understand the performance of the models when accuracy alone can be misleading"
   ]
  },
  {
   "cell_type": "code",
   "execution_count": 114,
   "metadata": {},
   "outputs": [],
   "source": [
    "labels = [int(label) for label in labels]"
   ]
  },
  {
   "cell_type": "markdown",
   "metadata": {},
   "source": [
    "### 3.1.1 Classification Model Based on Count Vector Representation"
   ]
  },
  {
   "cell_type": "code",
   "execution_count": 115,
   "metadata": {},
   "outputs": [],
   "source": [
    "# set the seed for reproducibility\n",
    "seed = 0 "
   ]
  },
  {
   "cell_type": "code",
   "execution_count": 116,
   "metadata": {},
   "outputs": [],
   "source": [
    "# creating training and test split\n",
    "# With the imbalanced dataset, we will use stratified sampling which ensures that the proportion of classes in the training and test sets is similar to the original dataset.\n",
    "X_train, X_test, y_train, y_test,train_indices,test_indices = train_test_split(count_features, labels, list(range(0,len(labels))),test_size=0.33, random_state=seed)"
   ]
  },
  {
   "cell_type": "code",
   "execution_count": 117,
   "metadata": {},
   "outputs": [
    {
     "data": {
      "text/plain": [
       "19652"
      ]
     },
     "execution_count": 117,
     "metadata": {},
     "output_type": "execute_result"
    }
   ],
   "source": [
    "len(train_indices) + len(test_indices) # add up the total should be equal the total number of instances in the data set"
   ]
  },
  {
   "cell_type": "code",
   "execution_count": 118,
   "metadata": {},
   "outputs": [
    {
     "name": "stderr",
     "output_type": "stream",
     "text": [
      "/Users/hieutong/opt/anaconda3/lib/python3.8/site-packages/sklearn/linear_model/_logistic.py:763: ConvergenceWarning: lbfgs failed to converge (status=1):\n",
      "STOP: TOTAL NO. of ITERATIONS REACHED LIMIT.\n",
      "\n",
      "Increase the number of iterations (max_iter) or scale the data as shown in:\n",
      "    https://scikit-learn.org/stable/modules/preprocessing.html\n",
      "Please also refer to the documentation for alternative solver options:\n",
      "    https://scikit-learn.org/stable/modules/linear_model.html#logistic-regression\n",
      "  n_iter_i = _check_optimize_result(\n"
     ]
    },
    {
     "data": {
      "text/plain": [
       "LogisticRegression(random_state=0)"
      ]
     },
     "execution_count": 118,
     "metadata": {},
     "output_type": "execute_result"
    }
   ],
   "source": [
    "model = LogisticRegression(random_state=seed)\n",
    "model.fit(X_train, y_train)"
   ]
  },
  {
   "cell_type": "code",
   "execution_count": 119,
   "metadata": {},
   "outputs": [],
   "source": [
    "# predicting the labels of the test data\n",
    "y_pred = model.predict(X_test)"
   ]
  },
  {
   "cell_type": "code",
   "execution_count": 120,
   "metadata": {},
   "outputs": [
    {
     "name": "stdout",
     "output_type": "stream",
     "text": [
      "Total number of mis-classification:  811 out of 6486 test instances, 12.503854455750849%.\n"
     ]
    }
   ],
   "source": [
    "# Check the miss classification\n",
    "mis_count = 0\n",
    "for i in range(0,len(y_pred)):\n",
    "    if y_pred[i]!=y_test[i]:\n",
    "        mis_count += 1\n",
    "print(\"Total number of mis-classification: \", mis_count, \"out of\",len(y_pred),\"test instances,\",\\\n",
    "      str(mis_count/len(y_pred)*100.0)+\"%.\")"
   ]
  },
  {
   "cell_type": "code",
   "execution_count": 121,
   "metadata": {},
   "outputs": [
    {
     "data": {
      "text/plain": [
       "0.8749614554424915"
      ]
     },
     "execution_count": 121,
     "metadata": {},
     "output_type": "execute_result"
    }
   ],
   "source": [
    "# Score the model\n",
    "model.score(X_test, y_test)"
   ]
  },
  {
   "cell_type": "code",
   "execution_count": 122,
   "metadata": {},
   "outputs": [
    {
     "name": "stdout",
     "output_type": "stream",
     "text": [
      "Confusion matrix, without normalization\n",
      "[[ 659  539]\n",
      " [ 272 5016]]\n",
      "Normalized confusion matrix\n",
      "[[0.55008347 0.44991653]\n",
      " [0.05143722 0.94856278]]\n"
     ]
    },
    {
     "data": {
      "image/png": "[encoded data removed]",
      "text/plain": [
       "<Figure size 432x288 with 2 Axes>"
      ]
     },
     "metadata": {
      "needs_background": "light"
     },
     "output_type": "display_data"
    },
    {
     "data": {
      "image/png": "[encoded data removed]",
      "text/plain": [
       "<Figure size 432x288 with 2 Axes>"
      ]
     },
     "metadata": {
      "needs_background": "light"
     },
     "output_type": "display_data"
    }
   ],
   "source": [
    "# Confusion matrix\n",
    "categories = sorted(list(set(labels))) # this gives sorted set of unique label names\n",
    "\n",
    "titles_options = [(\"Confusion matrix, without normalization\", None),\n",
    "                  (\"Normalized confusion matrix\", 'true')] # titles of different versions of the confusion matrix\n",
    "\n",
    "for title, normalize in titles_options: # for each option, creates the confusion matrix visualzation\n",
    "    disp = plot_confusion_matrix(model, X_test, y_test,\n",
    "                                 display_labels=categories,\n",
    "                                 cmap=plt.cm.Blues,\n",
    "                                 normalize=normalize) # create the plot object\n",
    "    disp.ax_.set_title(title) # attach the title to the plot\n",
    "\n",
    "    # prints the title and actual confusion matrix\n",
    "    print(title) \n",
    "    print(disp.confusion_matrix)\n",
    "\n",
    "plt.show() # shows the plots"
   ]
  },
  {
   "cell_type": "code",
   "execution_count": 123,
   "metadata": {},
   "outputs": [
    {
     "name": "stdout",
     "output_type": "stream",
     "text": [
      "                 precision    recall  f1-score   support\n",
      "\n",
      "Not Recommended       0.71      0.55      0.62      1198\n",
      "    Recommended       0.90      0.95      0.93      5288\n",
      "\n",
      "       accuracy                           0.87      6486\n",
      "      macro avg       0.81      0.75      0.77      6486\n",
      "   weighted avg       0.87      0.87      0.87      6486\n",
      "\n"
     ]
    }
   ],
   "source": [
    "# Confusion matrix report\n",
    "print(classification_report(y_test, y_pred, target_names=['Not Recommended', 'Recommended']))"
   ]
  },
  {
   "cell_type": "markdown",
   "metadata": {},
   "source": [
    "#### Analysis:\n",
    "- The model achieves 87% accuracy, which is good but misleading due to class imbalance.\n",
    "- With not recommended: it misses 45% of negative reviews, F1-score is 0.62.\n",
    "- With recommended: The model performs well on positive reviews with F1-score of 0.93.\n",
    "- The F1-score for \"Not Recommended\" class (0.62) is significantly lower than for \"Recommended\" class (0.93), indicating the model struggles with identifying negative reviews.\n",
    "- This imbalance in F1-scores confirms that we need to focus on improving the model's ability to detect negative reviews rather than just looking at overall accuracy."
   ]
  },
  {
   "cell_type": "markdown",
   "metadata": {},
   "source": [
    "### 3.1.2 Classification Model Based on Unweighted Vector Representation\n"
   ]
  },
  {
   "cell_type": "code",
   "execution_count": 124,
   "metadata": {},
   "outputs": [
    {
     "name": "stderr",
     "output_type": "stream",
     "text": [
      "/Users/hieutong/opt/anaconda3/lib/python3.8/site-packages/sklearn/linear_model/_logistic.py:763: ConvergenceWarning: lbfgs failed to converge (status=1):\n",
      "STOP: TOTAL NO. of ITERATIONS REACHED LIMIT.\n",
      "\n",
      "Increase the number of iterations (max_iter) or scale the data as shown in:\n",
      "    https://scikit-learn.org/stable/modules/preprocessing.html\n",
      "Please also refer to the documentation for alternative solver options:\n",
      "    https://scikit-learn.org/stable/modules/linear_model.html#logistic-regression\n",
      "  n_iter_i = _check_optimize_result(\n"
     ]
    },
    {
     "data": {
      "text/plain": [
       "0.8254702436016035"
      ]
     },
     "execution_count": 124,
     "metadata": {},
     "output_type": "execute_result"
    }
   ],
   "source": [
    "X_train, X_test, y_train, y_test = train_test_split(preTGloVe_dvs, labels, test_size=0.33, random_state=seed)\n",
    "model = LogisticRegression(random_state=seed)\n",
    "model.fit(X_train, y_train)\n",
    "model.score(X_test, y_test)"
   ]
  },
  {
   "cell_type": "code",
   "execution_count": 125,
   "metadata": {},
   "outputs": [
    {
     "name": "stdout",
     "output_type": "stream",
     "text": [
      "Confusion matrix, without normalization\n",
      "[[ 183 1015]\n",
      " [ 117 5171]]\n",
      "Normalized confusion matrix\n",
      "[[0.15275459 0.84724541]\n",
      " [0.02212557 0.97787443]]\n"
     ]
    },
    {
     "data": {
      "image/png": "[encoded data removed]",
      "text/plain": [
       "<Figure size 432x288 with 2 Axes>"
      ]
     },
     "metadata": {
      "needs_background": "light"
     },
     "output_type": "display_data"
    },
    {
     "data": {
      "image/png": "[encoded data removed]",
      "text/plain": [
       "<Figure size 432x288 with 2 Axes>"
      ]
     },
     "metadata": {
      "needs_background": "light"
     },
     "output_type": "display_data"
    }
   ],
   "source": [
    "# Confusion matrix\n",
    "\n",
    "titles_options = [(\"Confusion matrix, without normalization\", None),\n",
    "                  (\"Normalized confusion matrix\", 'true')] # titles of different versions of the confusion matrix\n",
    "\n",
    "for title, normalize in titles_options: # for each option, creates the confusion matrix visualzation\n",
    "    disp = plot_confusion_matrix(model, X_test, y_test,\n",
    "                                 display_labels=categories,\n",
    "                                 cmap=plt.cm.Blues,\n",
    "                                 normalize=normalize) # create the plot object\n",
    "    disp.ax_.set_title(title) # attach the title to the plot\n",
    "\n",
    "    # prints the title and actual confusion matrix\n",
    "    print(title) \n",
    "    print(disp.confusion_matrix)\n",
    "\n",
    "plt.show() # shows the plots"
   ]
  },
  {
   "cell_type": "code",
   "execution_count": 126,
   "metadata": {},
   "outputs": [
    {
     "name": "stdout",
     "output_type": "stream",
     "text": [
      "                 precision    recall  f1-score   support\n",
      "\n",
      "Not Recommended       0.61      0.15      0.24      1198\n",
      "    Recommended       0.84      0.98      0.90      5288\n",
      "\n",
      "       accuracy                           0.83      6486\n",
      "      macro avg       0.72      0.57      0.57      6486\n",
      "   weighted avg       0.79      0.83      0.78      6486\n",
      "\n"
     ]
    }
   ],
   "source": [
    "unWeighted_pred = model.predict(X_test)\n",
    "\n",
    "# Report the confusion matrix\n",
    "print(classification_report(y_test, unWeighted_pred, target_names=['Not Recommended', 'Recommended']))"
   ]
  },
  {
   "cell_type": "markdown",
   "metadata": {},
   "source": [
    "#### Analysis:\n",
    "\n",
    "- Only 15.3% of negative reviews are correctly identified.\n",
    "- 84.7% of negative reviews are misclassified as positive.\n",
    "- Recommendation class bias: positive reviews were correctly identified (97.8%) which marks poor performance on the negative ones.\n",
    "- Overall is 83% accuracy.\n",
    "- Only 0.24 F1-score for \"Not Recommended\" class.\n",
    "- It indicates that the model underperforming on negative class.\n"
   ]
  },
  {
   "cell_type": "markdown",
   "metadata": {},
   "source": [
    "### 3.1.3 Classification Model Based on weighted Vector Representation\n"
   ]
  },
  {
   "cell_type": "code",
   "execution_count": 127,
   "metadata": {},
   "outputs": [
    {
     "name": "stderr",
     "output_type": "stream",
     "text": [
      "/Users/hieutong/opt/anaconda3/lib/python3.8/site-packages/sklearn/linear_model/_logistic.py:763: ConvergenceWarning: lbfgs failed to converge (status=1):\n",
      "STOP: TOTAL NO. of ITERATIONS REACHED LIMIT.\n",
      "\n",
      "Increase the number of iterations (max_iter) or scale the data as shown in:\n",
      "    https://scikit-learn.org/stable/modules/preprocessing.html\n",
      "Please also refer to the documentation for alternative solver options:\n",
      "    https://scikit-learn.org/stable/modules/linear_model.html#logistic-regression\n",
      "  n_iter_i = _check_optimize_result(\n"
     ]
    },
    {
     "data": {
      "text/plain": [
       "0.8267036694418748"
      ]
     },
     "execution_count": 127,
     "metadata": {},
     "output_type": "execute_result"
    }
   ],
   "source": [
    "X_train, X_test, y_train, y_test = train_test_split(weighted_preTGloVe_dvs, labels, test_size=0.33, random_state=seed)\n",
    "model = LogisticRegression(random_state=seed)\n",
    "model.fit(X_train, y_train)\n",
    "model.score(X_test, y_test)"
   ]
  },
  {
   "cell_type": "code",
   "execution_count": 128,
   "metadata": {},
   "outputs": [
    {
     "name": "stdout",
     "output_type": "stream",
     "text": [
      "Confusion matrix, without normalization\n",
      "[[ 158 1040]\n",
      " [  84 5204]]\n",
      "Normalized confusion matrix\n",
      "[[0.13188648 0.86811352]\n",
      " [0.01588502 0.98411498]]\n"
     ]
    },
    {
     "data": {
      "image/png": "[encoded data removed]",
      "text/plain": [
       "<Figure size 432x288 with 2 Axes>"
      ]
     },
     "metadata": {
      "needs_background": "light"
     },
     "output_type": "display_data"
    },
    {
     "data": {
      "image/png": "[encoded data removed]",
      "text/plain": [
       "<Figure size 432x288 with 2 Axes>"
      ]
     },
     "metadata": {
      "needs_background": "light"
     },
     "output_type": "display_data"
    }
   ],
   "source": [
    "# Confusion matrix\n",
    "titles_options = [(\"Confusion matrix, without normalization\", None),\n",
    "                  (\"Normalized confusion matrix\", 'true')] # titles of different versions of the confusion matrix\n",
    "\n",
    "for title, normalize in titles_options: # for each option, creates the confusion matrix visualzation\n",
    "    disp = plot_confusion_matrix(model, X_test, y_test,\n",
    "                                 display_labels=categories,\n",
    "                                 cmap=plt.cm.Blues,\n",
    "                                 normalize=normalize) # create the plot object\n",
    "    disp.ax_.set_title(title) # attach the title to the plot\n",
    "\n",
    "    # prints the title and actual confusion matrix\n",
    "    print(title) \n",
    "    print(disp.confusion_matrix)\n",
    "\n",
    "plt.show() # shows the plots"
   ]
  },
  {
   "cell_type": "code",
   "execution_count": 129,
   "metadata": {},
   "outputs": [
    {
     "name": "stdout",
     "output_type": "stream",
     "text": [
      "                 precision    recall  f1-score   support\n",
      "\n",
      "Not Recommended       0.65      0.13      0.22      1198\n",
      "    Recommended       0.83      0.98      0.90      5288\n",
      "\n",
      "       accuracy                           0.83      6486\n",
      "      macro avg       0.74      0.56      0.56      6486\n",
      "   weighted avg       0.80      0.83      0.78      6486\n",
      "\n"
     ]
    }
   ],
   "source": [
    "# Generate predictions for the current model\n",
    "weighted_pred = model.predict(X_test)\n",
    "# Print out the classification report\n",
    "print(classification_report(y_test, weighted_pred, target_names=['Not Recommended', 'Recommended']))"
   ]
  },
  {
   "cell_type": "markdown",
   "metadata": {},
   "source": [
    "#### Analysis:\n",
    "- Extremely poor performance on negative class with only 13.2% correctly identified, 86.8% of negative reviews missclassified.\n",
    "- Strong result for recommend class with 98% which means that the model learned to predict \"Recommend\" for everything.\n",
    "- 83% accuracy is inflated by the class imbalance.\n",
    "- F1 score of negative class is just 0.22."
   ]
  },
  {
   "cell_type": "markdown",
   "metadata": {},
   "source": [
    "### 3.1.4 Classification Model Based with cross validation\n"
   ]
  },
  {
   "cell_type": "markdown",
   "metadata": {},
   "source": [
    "Let's build it with cross-validation and observe how each model performs."
   ]
  },
  {
   "cell_type": "code",
   "execution_count": 130,
   "metadata": {},
   "outputs": [
    {
     "name": "stdout",
     "output_type": "stream",
     "text": [
      "KFold(n_splits=5, random_state=0, shuffle=True)\n"
     ]
    }
   ],
   "source": [
    "# Define the kFold\n",
    "num_folds = 5\n",
    "kf = KFold(n_splits= num_folds, random_state=seed, shuffle = True) # initialise a 5 fold validation\n",
    "print(kf)"
   ]
  },
  {
   "cell_type": "code",
   "execution_count": 131,
   "metadata": {},
   "outputs": [],
   "source": [
    "def evaluate(X_train, X_test, y_train, y_test, seed):\n",
    "    model = LogisticRegression(random_state=seed, max_iter=1000)\n",
    "    model.fit(X_train, y_train)\n",
    "    y_pred = model.predict(X_test)\n",
    "\n",
    "    acc = accuracy_score(y_test, y_pred)\n",
    "    f1 = f1_score(y_test, y_pred, average='binary')  # Use 'weighted' or 'macro' if needed\n",
    "\n",
    "    return acc, f1\n"
   ]
  },
  {
   "cell_type": "code",
   "execution_count": 132,
   "metadata": {},
   "outputs": [],
   "source": [
    "# Create separate DataFrames for accuracy and F1\n",
    "metrics_f1 = ['count_f1_review', 'unweighted_f1_review', 'weighted_f1_review']\n",
    "metrics_acc = ['count_acc_review', 'unweighted_acc_review', 'weighted_acc_review']\n",
    "\n",
    "cv_df_f1 = pd.DataFrame(columns=metrics_f1, index=range(num_folds))\n",
    "cv_df_acc = pd.DataFrame(columns=metrics_acc, index=range(num_folds))"
   ]
  },
  {
   "cell_type": "code",
   "execution_count": 133,
   "metadata": {},
   "outputs": [],
   "source": [
    "fold = 0\n",
    "for train_index, test_index in kf.split(list(range(0, len(labels)))):\n",
    "    y_train = [labels[i] for i in train_index]\n",
    "    y_test = [labels[i] for i in test_index]\n",
    "\n",
    "    acc, f1 = evaluate(count_features[train_index], count_features[test_index], y_train, y_test, seed)\n",
    "    cv_df_f1.loc[fold, 'count_f1_review'] = f1\n",
    "    cv_df_acc.loc[fold, 'count_acc_review'] = acc\n",
    "\n",
    "    acc, f1 = evaluate(preTGloVe_dvs[train_index], preTGloVe_dvs[test_index], y_train, y_test, seed)\n",
    "    cv_df_f1.loc[fold, 'unweighted_f1_review'] = f1\n",
    "    cv_df_acc.loc[fold, 'unweighted_acc_review'] = acc\n",
    "\n",
    "    acc, f1 = evaluate(weighted_preTGloVe_dvs[train_index], weighted_preTGloVe_dvs[test_index], y_train, y_test, seed)\n",
    "    cv_df_f1.loc[fold, 'weighted_f1_review'] = f1\n",
    "    cv_df_acc.loc[fold, 'weighted_acc_review'] = acc\n",
    "\n",
    "    fold += 1"
   ]
  },
  {
   "cell_type": "code",
   "execution_count": 134,
   "metadata": {},
   "outputs": [
    {
     "data": {
      "text/html": [
       "<div>\n",
       "<style scoped>\n",
       "    .dataframe tbody tr th:only-of-type {\n",
       "        vertical-align: middle;\n",
       "    }\n",
       "\n",
       "    .dataframe tbody tr th {\n",
       "        vertical-align: top;\n",
       "    }\n",
       "\n",
       "    .dataframe thead th {\n",
       "        text-align: right;\n",
       "    }\n",
       "</style>\n",
       "<table border=\"1\" class=\"dataframe\">\n",
       "  <thead>\n",
       "    <tr style=\"text-align: right;\">\n",
       "      <th></th>\n",
       "      <th>count_acc_review</th>\n",
       "      <th>unweighted_acc_review</th>\n",
       "      <th>weighted_acc_review</th>\n",
       "    </tr>\n",
       "  </thead>\n",
       "  <tbody>\n",
       "    <tr>\n",
       "      <th>0</th>\n",
       "      <td>0.873823</td>\n",
       "      <td>0.823963</td>\n",
       "      <td>0.823709</td>\n",
       "    </tr>\n",
       "    <tr>\n",
       "      <th>1</th>\n",
       "      <td>0.876113</td>\n",
       "      <td>0.828542</td>\n",
       "      <td>0.830069</td>\n",
       "    </tr>\n",
       "    <tr>\n",
       "      <th>2</th>\n",
       "      <td>0.875573</td>\n",
       "      <td>0.825191</td>\n",
       "      <td>0.822646</td>\n",
       "    </tr>\n",
       "    <tr>\n",
       "      <th>3</th>\n",
       "      <td>0.864122</td>\n",
       "      <td>0.816031</td>\n",
       "      <td>0.819593</td>\n",
       "    </tr>\n",
       "    <tr>\n",
       "      <th>4</th>\n",
       "      <td>0.880153</td>\n",
       "      <td>0.832824</td>\n",
       "      <td>0.829771</td>\n",
       "    </tr>\n",
       "  </tbody>\n",
       "</table>\n",
       "</div>"
      ],
      "text/plain": [
       "  count_acc_review unweighted_acc_review weighted_acc_review\n",
       "0         0.873823              0.823963            0.823709\n",
       "1         0.876113              0.828542            0.830069\n",
       "2         0.875573              0.825191            0.822646\n",
       "3         0.864122              0.816031            0.819593\n",
       "4         0.880153              0.832824            0.829771"
      ]
     },
     "execution_count": 134,
     "metadata": {},
     "output_type": "execute_result"
    }
   ],
   "source": [
    "cv_df_acc # show the accuracy for each fold\n"
   ]
  },
  {
   "cell_type": "code",
   "execution_count": 135,
   "metadata": {},
   "outputs": [
    {
     "data": {
      "text/plain": [
       "count_acc_review         0.873957\n",
       "unweighted_acc_review    0.825310\n",
       "weighted_acc_review      0.825158\n",
       "dtype: float64"
      ]
     },
     "execution_count": 135,
     "metadata": {},
     "output_type": "execute_result"
    }
   ],
   "source": [
    "# mean accuracy\n",
    "cv_df_acc.mean() "
   ]
  },
  {
   "cell_type": "code",
   "execution_count": 136,
   "metadata": {},
   "outputs": [
    {
     "data": {
      "text/html": [
       "<div>\n",
       "<style scoped>\n",
       "    .dataframe tbody tr th:only-of-type {\n",
       "        vertical-align: middle;\n",
       "    }\n",
       "\n",
       "    .dataframe tbody tr th {\n",
       "        vertical-align: top;\n",
       "    }\n",
       "\n",
       "    .dataframe thead th {\n",
       "        text-align: right;\n",
       "    }\n",
       "</style>\n",
       "<table border=\"1\" class=\"dataframe\">\n",
       "  <thead>\n",
       "    <tr style=\"text-align: right;\">\n",
       "      <th></th>\n",
       "      <th>count_f1_review</th>\n",
       "      <th>unweighted_f1_review</th>\n",
       "      <th>weighted_f1_review</th>\n",
       "    </tr>\n",
       "  </thead>\n",
       "  <tbody>\n",
       "    <tr>\n",
       "      <th>0</th>\n",
       "      <td>0.924459</td>\n",
       "      <td>0.900231</td>\n",
       "      <td>0.900645</td>\n",
       "    </tr>\n",
       "    <tr>\n",
       "      <th>1</th>\n",
       "      <td>0.926313</td>\n",
       "      <td>0.903217</td>\n",
       "      <td>0.904544</td>\n",
       "    </tr>\n",
       "    <tr>\n",
       "      <th>2</th>\n",
       "      <td>0.925763</td>\n",
       "      <td>0.900994</td>\n",
       "      <td>0.899986</td>\n",
       "    </tr>\n",
       "    <tr>\n",
       "      <th>3</th>\n",
       "      <td>0.91882</td>\n",
       "      <td>0.895566</td>\n",
       "      <td>0.898235</td>\n",
       "    </tr>\n",
       "    <tr>\n",
       "      <th>4</th>\n",
       "      <td>0.928991</td>\n",
       "      <td>0.905617</td>\n",
       "      <td>0.904388</td>\n",
       "    </tr>\n",
       "  </tbody>\n",
       "</table>\n",
       "</div>"
      ],
      "text/plain": [
       "  count_f1_review unweighted_f1_review weighted_f1_review\n",
       "0        0.924459             0.900231           0.900645\n",
       "1        0.926313             0.903217           0.904544\n",
       "2        0.925763             0.900994           0.899986\n",
       "3         0.91882             0.895566           0.898235\n",
       "4        0.928991             0.905617           0.904388"
      ]
     },
     "execution_count": 136,
     "metadata": {},
     "output_type": "execute_result"
    }
   ],
   "source": [
    "# Show F1 score for cross validation\n",
    "cv_df_f1"
   ]
  },
  {
   "cell_type": "code",
   "execution_count": 137,
   "metadata": {},
   "outputs": [
    {
     "data": {
      "text/plain": [
       "count_f1_review         0.924869\n",
       "unweighted_f1_review    0.901125\n",
       "weighted_f1_review      0.901559\n",
       "dtype: float64"
      ]
     },
     "execution_count": 137,
     "metadata": {},
     "output_type": "execute_result"
    }
   ],
   "source": [
    "cv_df_f1.mean() # mean F1 score for all the folds"
   ]
  },
  {
   "cell_type": "markdown",
   "metadata": {},
   "source": [
    "From above experiments, we conducted training and evaluation of **logistic regression models** using three different feature representations for reviews:\n",
    "\n",
    "- **Count Vector (Bag-of-Words)**\n",
    "- **Unweighted GloVe Embeddings**\n",
    "- **TF-IDF Weighted GloVe Embeddings**\n",
    "\n",
    "Each model was evaluated using **5-fold cross-validation**.\n",
    "\n",
    "---\n",
    "\n",
    "### Key Findings\n",
    "- Count vector superiority: the bag-of-words approach consistently outperformed both GloVe-based methods across all folds. It achieved an average F1-score of 0.925, which is about 2.3% higher than the embedding-based models. With accuracy, the average of the bag-of-words is 0.87 which is around 4.8% higher than ones.\n",
    "- Minimal benefit from TF-IDF Weighting : the difference between unweighted and TF-IDF weighted GloVe embeddings was very small—just 0.0004 in F1-score—showing that TF-IDF weighting adds almost no value for this classification.\n",
    "- Consistency across folds: the count vector method had the highest F1-score and accuracy in every fold, with only a small variation, indicating reliable and stable performance regardless of how the data is split.\n",
    "- Embedding methods are similar: both unweighted and weighted GloVe embeddings performed similarly, averaging around 0.901 in F1-score, meaning there’s little difference in their effectiveness.\n",
    "\n",
    "---\n",
    "\n",
    "### Analysis\n",
    "\n",
    "- The strong results from count vectors suggest that simply knowing which words appear may be more important. There are likely clear keywords that indicate whether a review is recommending the product.\n",
    "- Count vectors also have the advantage of being simpler and faster to compute, without sacrificing accuracy.\n",
    "- Looking closer at the results, the bag-of-words model not only performs better but also is more stable across different data splits. This tells us that lexical features—specific words and their frequency—are reliable predictors in clothing recommendation classification.\n",
    "- Although word embeddings are designed to capture semantic relationships between words, they do not perform well in here. This is probably because specific vocabulary is more directly linked to recommendation status than subtle semantic meanings."
   ]
  },
  {
   "cell_type": "markdown",
   "metadata": {},
   "source": [
    "### 3.2 Q2: Does More Information Provide Higher Accuracy?\n",
    "##### 3.2.1 only title of the review"
   ]
  },
  {
   "cell_type": "code",
   "execution_count": 138,
   "metadata": {},
   "outputs": [],
   "source": [
    "# Get review titles\n",
    "review_titles = df['Title'].fillna('')\n",
    "\n",
    "# Process titles with the same vectorizers used for review text\n",
    "# 1. Count vectors for titles\n",
    "title_count_features = cVectorizer.fit_transform([' '.join(title.split()) for title in review_titles])\n",
    "\n",
    "# 2. TF-IDF vectors for titles\n",
    "title_tfidf_features = tVectorizer.fit_transform([' '.join(title.split()) for title in review_titles])\n",
    "\n",
    "# 3. Process titles for GloVe embeddings\n",
    "# Tokenize titles and filter out invalid words\n",
    "tokenized_titles = []\n",
    "for title in review_titles:\n",
    "    if isinstance(title, str):\n",
    "        tokens = title.lower().split()\n",
    "        valid_tokens = [token for token in tokens if token in preTGloVe_wv]\n",
    "        tokenized_titles.append(valid_tokens)\n",
    "    else:\n",
    "        tokenized_titles.append([])\n",
    "\n",
    "\n",
    "# Generate document vectors for titles using unweighted GloVe\n",
    "title_glove_dvs = gen_docVecs(preTGloVe_wv, tokenized_titles)\n",
    "\n",
    "# Generate document vectors for titles using weighted GloVe\n",
    "# First get TF-IDF weights for titles\n",
    "title_tfidf_weights = create_tfidf_weights(title_tfidf_features, vocab_dict)\n",
    "\n",
    "# Then create weighted document vectors\n",
    "title_weighted_glove_dvs = weighted_docvecs(preTGloVe_wv, title_tfidf_weights, tokenized_titles)"
   ]
  },
  {
   "cell_type": "markdown",
   "metadata": {},
   "source": [
    "Classification Model the data features (count, unweighted, and weighted vectors) for all titles, store in lists (`title_count_features`, and `title_glove_dvs`, `title_weighted_glove_dvs`);"
   ]
  },
  {
   "cell_type": "markdown",
   "metadata": {},
   "source": [
    "##### 3.2.1.1 Classification each model"
   ]
  },
  {
   "cell_type": "code",
   "execution_count": 139,
   "metadata": {},
   "outputs": [],
   "source": [
    "# Instead of building logistic regression models for each feature representation like reviews, create generic function, then call it for each representation\n",
    "def evaluate_title_features(feature_name, feature_data, labels, seed=0):\n",
    "    \"\"\"\n",
    "    Evaluate a feature representation by training a logistic regression model,\n",
    "    computing confusion matrices, and printing classification report.\n",
    "    \n",
    "    Parameters:\n",
    "    -----------\n",
    "    feature_name : str\n",
    "        Name of the feature representation being evaluated\n",
    "    feature_data : array or sparse matrix\n",
    "        Feature data to be used for classification\n",
    "    labels : list or array\n",
    "        Target labels for classification\n",
    "    seed : int, default=0\n",
    "        Random seed for reproducibility\n",
    "    \n",
    "    Returns:\n",
    "    --------\n",
    "    float\n",
    "        Accuracy score of the model on the test set\n",
    "    \"\"\"\n",
    "    print(f\"\\n{'='*20} Evaluating {feature_name} {'='*20}\")\n",
    "    \n",
    "    # Check for NaN values and replace with zeros if needed\n",
    "    if isinstance(feature_data, np.ndarray) and np.isnan(feature_data).any():\n",
    "        print(f\"Warning: Found {np.isnan(feature_data).any(axis=1).sum()} documents with NaN values\")\n",
    "        print(\"Replacing NaN values with zeros\")\n",
    "        feature_data = np.nan_to_num(feature_data)\n",
    "    \n",
    "    # Create train-test split\n",
    "    X_train, X_test, y_train, y_test = train_test_split(\n",
    "        feature_data, labels, test_size=0.33, random_state=seed\n",
    "    )\n",
    "    \n",
    "    # Train logistic regression model\n",
    "    model = LogisticRegression(random_state=seed, max_iter=1000)\n",
    "    model.fit(X_train, y_train)\n",
    "    \n",
    "    # Get predictions\n",
    "    y_pred = model.predict(X_test)\n",
    "    \n",
    "    # Calculate accuracy\n",
    "    accuracy = model.score(X_test, y_test)\n",
    "    print(f\"Model accuracy: {accuracy:.4f}\")\n",
    "    \n",
    "    # Plot confusion matrices\n",
    "    categories = sorted(list(set(labels)))\n",
    "    titles_options = [\n",
    "        (\"Confusion matrix, without normalization\", None),\n",
    "        (\"Normalized confusion matrix\", 'true')\n",
    "    ]\n",
    "    \n",
    "    for title, normalize in titles_options:\n",
    "        disp = plot_confusion_matrix(\n",
    "            model, X_test, y_test,\n",
    "            display_labels=categories,\n",
    "            cmap=plt.cm.Blues,\n",
    "            normalize=normalize\n",
    "        )\n",
    "        disp.ax_.set_title(f\"{feature_name}: {title}\")\n",
    "        print(title) \n",
    "        print(disp.confusion_matrix)\n",
    "    \n",
    "    plt.show()\n",
    "    \n",
    "    # Print classification report\n",
    "    print(\"\\nClassification Report:\")\n",
    "    print(classification_report(y_test, y_pred, target_names=['Not Recommended', 'Recommended']))\n",
    "    \n",
    "    return accuracy"
   ]
  },
  {
   "cell_type": "code",
   "execution_count": 140,
   "metadata": {},
   "outputs": [
    {
     "name": "stdout",
     "output_type": "stream",
     "text": [
      "\n",
      "==================== Evaluating Title Count Vectors ====================\n",
      "Model accuracy: 0.8631\n",
      "Confusion matrix, without normalization\n",
      "[[ 452  746]\n",
      " [ 142 5146]]\n",
      "Normalized confusion matrix\n",
      "[[0.37729549 0.62270451]\n",
      " [0.02685325 0.97314675]]\n"
     ]
    },
    {
     "data": {
      "image/png": "[encoded data removed]",
      "text/plain": [
       "<Figure size 432x288 with 2 Axes>"
      ]
     },
     "metadata": {
      "needs_background": "light"
     },
     "output_type": "display_data"
    },
    {
     "data": {
      "image/png": "[encoded data removed]",
      "text/plain": [
       "<Figure size 432x288 with 2 Axes>"
      ]
     },
     "metadata": {
      "needs_background": "light"
     },
     "output_type": "display_data"
    },
    {
     "name": "stdout",
     "output_type": "stream",
     "text": [
      "\n",
      "Classification Report:\n",
      "                 precision    recall  f1-score   support\n",
      "\n",
      "Not Recommended       0.76      0.38      0.50      1198\n",
      "    Recommended       0.87      0.97      0.92      5288\n",
      "\n",
      "       accuracy                           0.86      6486\n",
      "      macro avg       0.82      0.68      0.71      6486\n",
      "   weighted avg       0.85      0.86      0.84      6486\n",
      "\n",
      "\n",
      "==================== Evaluating Title GloVe Embeddings ====================\n",
      "Model accuracy: 0.8219\n",
      "Confusion matrix, without normalization\n",
      "[[ 289  909]\n",
      " [ 246 5042]]\n",
      "Normalized confusion matrix\n",
      "[[0.24123539 0.75876461]\n",
      " [0.04652042 0.95347958]]\n"
     ]
    },
    {
     "data": {
      "image/png": "[encoded data removed]",
      "text/plain": [
       "<Figure size 432x288 with 2 Axes>"
      ]
     },
     "metadata": {
      "needs_background": "light"
     },
     "output_type": "display_data"
    },
    {
     "data": {
      "image/png": "[encoded data removed]",
      "text/plain": [
       "<Figure size 432x288 with 2 Axes>"
      ]
     },
     "metadata": {
      "needs_background": "light"
     },
     "output_type": "display_data"
    },
    {
     "name": "stdout",
     "output_type": "stream",
     "text": [
      "\n",
      "Classification Report:\n",
      "                 precision    recall  f1-score   support\n",
      "\n",
      "Not Recommended       0.54      0.24      0.33      1198\n",
      "    Recommended       0.85      0.95      0.90      5288\n",
      "\n",
      "       accuracy                           0.82      6486\n",
      "      macro avg       0.69      0.60      0.62      6486\n",
      "   weighted avg       0.79      0.82      0.79      6486\n",
      "\n",
      "\n",
      "==================== Evaluating Title Weighted GloVe Embeddings ====================\n",
      "Model accuracy: 0.8276\n",
      "Confusion matrix, without normalization\n",
      "[[ 220  978]\n",
      " [ 140 5148]]\n",
      "Normalized confusion matrix\n",
      "[[0.1836394  0.8163606 ]\n",
      " [0.02647504 0.97352496]]\n"
     ]
    },
    {
     "data": {
      "image/png": "[encoded data removed]",
      "text/plain": [
       "<Figure size 432x288 with 2 Axes>"
      ]
     },
     "metadata": {
      "needs_background": "light"
     },
     "output_type": "display_data"
    },
    {
     "data": {
      "image/png": "[encoded data removed]",
      "text/plain": [
       "<Figure size 432x288 with 2 Axes>"
      ]
     },
     "metadata": {
      "needs_background": "light"
     },
     "output_type": "display_data"
    },
    {
     "name": "stdout",
     "output_type": "stream",
     "text": [
      "\n",
      "Classification Report:\n",
      "                 precision    recall  f1-score   support\n",
      "\n",
      "Not Recommended       0.61      0.18      0.28      1198\n",
      "    Recommended       0.84      0.97      0.90      5288\n",
      "\n",
      "       accuracy                           0.83      6486\n",
      "      macro avg       0.73      0.58      0.59      6486\n",
      "   weighted avg       0.80      0.83      0.79      6486\n",
      "\n"
     ]
    }
   ],
   "source": [
    "# Handle potential NaN values in title_glove_dvs\n",
    "title_glove_dvs = np.nan_to_num(title_glove_dvs)\n",
    "title_weighted_glove_dvs = np.nan_to_num(title_weighted_glove_dvs)\n",
    "\n",
    "# Evaluate all three title feature representations\n",
    "title_results = {}\n",
    "title_results['Count Vectors'] = evaluate_title_features(\"Title Count Vectors\", \n",
    "                                                        title_count_features, \n",
    "                                                        labels, \n",
    "                                                        seed)\n",
    "\n",
    "title_results['GloVe Embeddings'] = evaluate_title_features(\"Title GloVe Embeddings\", \n",
    "                                                           title_glove_dvs, \n",
    "                                                           labels, \n",
    "                                                           seed)\n",
    "\n",
    "title_results['Weighted GloVe Embeddings'] = evaluate_title_features(\"Title Weighted GloVe Embeddings\", \n",
    "                                                                   title_weighted_glove_dvs, \n",
    "                                                                   labels, \n",
    "                                                                   seed)"
   ]
  },
  {
   "cell_type": "markdown",
   "metadata": {},
   "source": [
    "### Title Classification Analysis\n",
    "\n",
    "Based on the confusion matrix and classification reports for the title features:\n",
    "\n",
    "#### Count Vector (Bag-of-Words) for Titles\n",
    "- Performance: Achieves the highest accuracy (86%) and F1-score (0.92).\n",
    "\n",
    "#### Unweighted GloVe Embeddings for Titles\n",
    "\n",
    "- Performance: reaches 82% accuracy and a 0.90 F1-score, which is lower than the count vector model.\n",
    "- Class imbalance issue: struggles significantly with negative reviews, identifying only about 24% of them correctly.\n",
    "- Positive class bias: Very high recall for positive reviews, suggesting a strong tendency to predict the \"Recommended\" class.\n",
    "\n",
    "#### TF-IDF Weighted GloVe Embeddings for Titles\n",
    "\n",
    "- Performance: slightly better than unweighted embeddings, achieving 83% accuracy and a 0.9 F1-score.\n",
    "- Minimal improvement: The addition of TF-IDF weighting results in only a small improvement (0.1% increase in F1-score)."
   ]
  },
  {
   "cell_type": "markdown",
   "metadata": {},
   "source": [
    "##### 3.2.1.2 Classification model with cross validation"
   ]
  },
  {
   "cell_type": "code",
   "execution_count": 141,
   "metadata": {},
   "outputs": [],
   "source": [
    "# Create separate DataFrames for accuracy and F1 for title features\n",
    "metrics_f1_title = ['count_f1_title', 'unweighted_f1_title', 'weighted_f1_title']\n",
    "metrics_acc_title = ['count_acc_title', 'unweighted_acc_title', 'weighted_acc_title']\n",
    "\n",
    "cv_df_f1_title = pd.DataFrame(columns=metrics_f1_title, index=range(num_folds))\n",
    "cv_df_acc_title = pd.DataFrame(columns=metrics_acc_title, index=range(num_folds))\n",
    "\n",
    "fold = 0\n",
    "for train_index, test_index in kf.split(list(range(0, len(labels)))):\n",
    "    y_train = [labels[i] for i in train_index]\n",
    "    y_test = [labels[i] for i in test_index]\n",
    "\n",
    "    # Evaluate title count vectors\n",
    "    acc, f1 = evaluate(title_count_features[train_index], title_count_features[test_index], y_train, y_test, seed)\n",
    "    cv_df_f1_title.loc[fold, 'count_f1_title'] = f1\n",
    "    cv_df_acc_title.loc[fold, 'count_acc_title'] = acc\n",
    "\n",
    "    # Evaluate unweighted GloVe embeddings for titles\n",
    "    acc, f1 = evaluate(title_glove_dvs[train_index], title_glove_dvs[test_index], y_train, y_test, seed)\n",
    "    cv_df_f1_title.loc[fold, 'unweighted_f1_title'] = f1\n",
    "    cv_df_acc_title.loc[fold, 'unweighted_acc_title'] = acc\n",
    "\n",
    "    # Evaluate weighted GloVe embeddings for titles\n",
    "    acc, f1 = evaluate(title_weighted_glove_dvs[train_index], title_weighted_glove_dvs[test_index], y_train, y_test, seed)\n",
    "    cv_df_f1_title.loc[fold, 'weighted_f1_title'] = f1\n",
    "    cv_df_acc_title.loc[fold, 'weighted_acc_title'] = acc\n",
    "\n",
    "    fold += 1"
   ]
  },
  {
   "cell_type": "code",
   "execution_count": 142,
   "metadata": {},
   "outputs": [
    {
     "data": {
      "text/html": [
       "<div>\n",
       "<style scoped>\n",
       "    .dataframe tbody tr th:only-of-type {\n",
       "        vertical-align: middle;\n",
       "    }\n",
       "\n",
       "    .dataframe tbody tr th {\n",
       "        vertical-align: top;\n",
       "    }\n",
       "\n",
       "    .dataframe thead th {\n",
       "        text-align: right;\n",
       "    }\n",
       "</style>\n",
       "<table border=\"1\" class=\"dataframe\">\n",
       "  <thead>\n",
       "    <tr style=\"text-align: right;\">\n",
       "      <th></th>\n",
       "      <th>count_acc_title</th>\n",
       "      <th>unweighted_acc_title</th>\n",
       "      <th>weighted_acc_title</th>\n",
       "    </tr>\n",
       "  </thead>\n",
       "  <tbody>\n",
       "    <tr>\n",
       "      <th>0</th>\n",
       "      <td>0.865683</td>\n",
       "      <td>0.819384</td>\n",
       "      <td>0.825998</td>\n",
       "    </tr>\n",
       "    <tr>\n",
       "      <th>1</th>\n",
       "      <td>0.867973</td>\n",
       "      <td>0.832358</td>\n",
       "      <td>0.831849</td>\n",
       "    </tr>\n",
       "    <tr>\n",
       "      <th>2</th>\n",
       "      <td>0.867176</td>\n",
       "      <td>0.838931</td>\n",
       "      <td>0.82799</td>\n",
       "    </tr>\n",
       "    <tr>\n",
       "      <th>3</th>\n",
       "      <td>0.860305</td>\n",
       "      <td>0.827481</td>\n",
       "      <td>0.827226</td>\n",
       "    </tr>\n",
       "    <tr>\n",
       "      <th>4</th>\n",
       "      <td>0.867684</td>\n",
       "      <td>0.831298</td>\n",
       "      <td>0.833333</td>\n",
       "    </tr>\n",
       "  </tbody>\n",
       "</table>\n",
       "</div>"
      ],
      "text/plain": [
       "  count_acc_title unweighted_acc_title weighted_acc_title\n",
       "0        0.865683             0.819384           0.825998\n",
       "1        0.867973             0.832358           0.831849\n",
       "2        0.867176             0.838931            0.82799\n",
       "3        0.860305             0.827481           0.827226\n",
       "4        0.867684             0.831298           0.833333"
      ]
     },
     "execution_count": 142,
     "metadata": {},
     "output_type": "execute_result"
    }
   ],
   "source": [
    "cv_df_acc_title"
   ]
  },
  {
   "cell_type": "code",
   "execution_count": 143,
   "metadata": {},
   "outputs": [
    {
     "data": {
      "text/plain": [
       "count_acc_title         0.865764\n",
       "unweighted_acc_title    0.829890\n",
       "weighted_acc_title      0.829279\n",
       "dtype: float64"
      ]
     },
     "execution_count": 143,
     "metadata": {},
     "output_type": "execute_result"
    }
   ],
   "source": [
    "cv_df_acc_title.mean() # mean accuracy for all the folds"
   ]
  },
  {
   "cell_type": "code",
   "execution_count": 144,
   "metadata": {},
   "outputs": [
    {
     "data": {
      "text/html": [
       "<div>\n",
       "<style scoped>\n",
       "    .dataframe tbody tr th:only-of-type {\n",
       "        vertical-align: middle;\n",
       "    }\n",
       "\n",
       "    .dataframe tbody tr th {\n",
       "        vertical-align: top;\n",
       "    }\n",
       "\n",
       "    .dataframe thead th {\n",
       "        text-align: right;\n",
       "    }\n",
       "</style>\n",
       "<table border=\"1\" class=\"dataframe\">\n",
       "  <thead>\n",
       "    <tr style=\"text-align: right;\">\n",
       "      <th></th>\n",
       "      <th>count_f1_title</th>\n",
       "      <th>unweighted_f1_title</th>\n",
       "      <th>weighted_f1_title</th>\n",
       "    </tr>\n",
       "  </thead>\n",
       "  <tbody>\n",
       "    <tr>\n",
       "      <th>0</th>\n",
       "      <td>0.92187</td>\n",
       "      <td>0.895404</td>\n",
       "      <td>0.900783</td>\n",
       "    </tr>\n",
       "    <tr>\n",
       "      <th>1</th>\n",
       "      <td>0.923755</td>\n",
       "      <td>0.904062</td>\n",
       "      <td>0.904741</td>\n",
       "    </tr>\n",
       "    <tr>\n",
       "      <th>2</th>\n",
       "      <td>0.923054</td>\n",
       "      <td>0.90728</td>\n",
       "      <td>0.902397</td>\n",
       "    </tr>\n",
       "    <tr>\n",
       "      <th>3</th>\n",
       "      <td>0.918389</td>\n",
       "      <td>0.900906</td>\n",
       "      <td>0.901236</td>\n",
       "    </tr>\n",
       "    <tr>\n",
       "      <th>4</th>\n",
       "      <td>0.923709</td>\n",
       "      <td>0.90331</td>\n",
       "      <td>0.90566</td>\n",
       "    </tr>\n",
       "  </tbody>\n",
       "</table>\n",
       "</div>"
      ],
      "text/plain": [
       "  count_f1_title unweighted_f1_title weighted_f1_title\n",
       "0        0.92187            0.895404          0.900783\n",
       "1       0.923755            0.904062          0.904741\n",
       "2       0.923054             0.90728          0.902397\n",
       "3       0.918389            0.900906          0.901236\n",
       "4       0.923709             0.90331           0.90566"
      ]
     },
     "execution_count": 144,
     "metadata": {},
     "output_type": "execute_result"
    }
   ],
   "source": [
    "cv_df_f1_title"
   ]
  },
  {
   "cell_type": "code",
   "execution_count": 145,
   "metadata": {},
   "outputs": [
    {
     "data": {
      "text/plain": [
       "count_f1_title         0.922155\n",
       "unweighted_f1_title    0.902192\n",
       "weighted_f1_title      0.902964\n",
       "dtype: float64"
      ]
     },
     "execution_count": 145,
     "metadata": {},
     "output_type": "execute_result"
    }
   ],
   "source": [
    "cv_df_f1_title.mean()"
   ]
  },
  {
   "cell_type": "markdown",
   "metadata": {},
   "source": [
    "From above experiments, we conducted training and evaluation of **logistic regression models** using three different feature representations for titles:\n",
    "\n",
    "- **Count Vector (Bag-of-Words)**\n",
    "- **Unweighted GloVe Embeddings**\n",
    "- **TF-IDF Weighted GloVe Embeddings**\n",
    "\n",
    "Each model was evaluated using **5-fold cross-validation**.\n",
    "### **Key Findings**\n",
    "\n",
    "- Bag-of-Words still performs well: the count vector model (bag-of-words) consistently outperforms the GloVe-based models across all five folds. On average, it scores about 2% higher in F1-score and 4% in accuracy.\n",
    "- TF-IDF weighting adds little: there's barely any difference between the weighted and unweighted GloVe embeddings—just a 0.0008 (or 0.08%) improvement. This shows that adding TF-IDF weighting doesn’t really help for classifying titles.\n",
    "- Titles carry strong signals: all models achieved F1-scores above 0.9 using just the review titles. This means that titles alone provide a lot of useful information for predicting whether a product is recommended or not.\n",
    "- Consistent results with count vectors: the count vector approach not only performs the best but also does so consistently, with the smallest variation across folds.\n",
    "\n",
    "---\n",
    "\n",
    "### **Analysis**\n",
    "- The strong performance of count vectors suggests that just identifying which words are present—without needing to understand their meaning—can be more useful for this task. This implies that certain words strongly signal whether a review recommends the product or not.\n",
    "- The tiny performance gap between weighted and unweighted embeddings shows that adjusting for word frequency (like with TF-IDF) does not add much value here. That would probably be correct because titles are short and to the point, meaning that just knowing which words are used is already very informative.\n",
    "- Without using the full review, titles alone give excellent results. For building efficient models—processing, we could only use the title which is much faster and still gives the high accuracy.\n",
    "- For applications in this case, a title-based bag-of-words model could work really well as a first step which makes the system both accurate and efficient.\n"
   ]
  },
  {
   "cell_type": "markdown",
   "metadata": {},
   "source": [
    "##### 3.2.2 Classification Model both title and review"
   ]
  },
  {
   "cell_type": "code",
   "execution_count": 146,
   "metadata": {},
   "outputs": [],
   "source": [
    "# Create combined features\n",
    "# 1. Combine bag-of-words count vectors\n",
    "combined_count_features = hstack([title_count_features, count_features])\n",
    "\n",
    "# 2. Combine unweighted GloVe embeddings\n",
    "combined_glove_dvs = np.hstack([title_glove_dvs, preTGloVe_dvs])\n",
    "\n",
    "# 3. Combine weighted GloVe embeddings\n",
    "combined_weighted_glove_dvs = np.hstack([title_weighted_glove_dvs, weighted_preTGloVe_dvs])"
   ]
  },
  {
   "cell_type": "code",
   "execution_count": 147,
   "metadata": {},
   "outputs": [
    {
     "name": "stdout",
     "output_type": "stream",
     "text": [
      "\n",
      "\n",
      "==== EVALUATING COMBINED FEATURES (TITLE + REVIEW TEXT) ====\n",
      "\n",
      "\n",
      "==================== Evaluating Combined Count Vectors ====================\n",
      "Model accuracy: 0.8902\n",
      "Confusion matrix, without normalization\n",
      "[[ 722  476]\n",
      " [ 236 5052]]\n",
      "Normalized confusion matrix\n",
      "[[0.60267112 0.39732888]\n",
      " [0.04462935 0.95537065]]\n"
     ]
    },
    {
     "data": {
      "image/png": "[encoded data removed]",
      "text/plain": [
       "<Figure size 432x288 with 2 Axes>"
      ]
     },
     "metadata": {
      "needs_background": "light"
     },
     "output_type": "display_data"
    },
    {
     "data": {
      "image/png": "[encoded data removed]",
      "text/plain": [
       "<Figure size 432x288 with 2 Axes>"
      ]
     },
     "metadata": {
      "needs_background": "light"
     },
     "output_type": "display_data"
    },
    {
     "name": "stdout",
     "output_type": "stream",
     "text": [
      "\n",
      "Classification Report:\n",
      "                 precision    recall  f1-score   support\n",
      "\n",
      "Not Recommended       0.75      0.60      0.67      1198\n",
      "    Recommended       0.91      0.96      0.93      5288\n",
      "\n",
      "       accuracy                           0.89      6486\n",
      "      macro avg       0.83      0.78      0.80      6486\n",
      "   weighted avg       0.88      0.89      0.89      6486\n",
      "\n",
      "\n",
      "==================== Evaluating Combined GloVe Embeddings ====================\n"
     ]
    },
    {
     "name": "stderr",
     "output_type": "stream",
     "text": [
      "/Users/hieutong/opt/anaconda3/lib/python3.8/site-packages/sklearn/linear_model/_logistic.py:763: ConvergenceWarning: lbfgs failed to converge (status=1):\n",
      "STOP: TOTAL NO. of ITERATIONS REACHED LIMIT.\n",
      "\n",
      "Increase the number of iterations (max_iter) or scale the data as shown in:\n",
      "    https://scikit-learn.org/stable/modules/preprocessing.html\n",
      "Please also refer to the documentation for alternative solver options:\n",
      "    https://scikit-learn.org/stable/modules/linear_model.html#logistic-regression\n",
      "  n_iter_i = _check_optimize_result(\n"
     ]
    },
    {
     "name": "stdout",
     "output_type": "stream",
     "text": [
      "Model accuracy: 0.8440\n",
      "Confusion matrix, without normalization\n",
      "[[ 440  758]\n",
      " [ 254 5034]]\n",
      "Normalized confusion matrix\n",
      "[[0.3672788  0.6327212 ]\n",
      " [0.04803328 0.95196672]]\n"
     ]
    },
    {
     "data": {
      "image/png": "[encoded data removed]",
      "text/plain": [
       "<Figure size 432x288 with 2 Axes>"
      ]
     },
     "metadata": {
      "needs_background": "light"
     },
     "output_type": "display_data"
    },
    {
     "data": {
      "image/png": "[encoded data removed]",
      "text/plain": [
       "<Figure size 432x288 with 2 Axes>"
      ]
     },
     "metadata": {
      "needs_background": "light"
     },
     "output_type": "display_data"
    },
    {
     "name": "stdout",
     "output_type": "stream",
     "text": [
      "\n",
      "Classification Report:\n",
      "                 precision    recall  f1-score   support\n",
      "\n",
      "Not Recommended       0.63      0.37      0.47      1198\n",
      "    Recommended       0.87      0.95      0.91      5288\n",
      "\n",
      "       accuracy                           0.84      6486\n",
      "      macro avg       0.75      0.66      0.69      6486\n",
      "   weighted avg       0.83      0.84      0.83      6486\n",
      "\n",
      "\n",
      "==================== Evaluating Combined Weighted GloVe Embeddings ====================\n",
      "Model accuracy: 0.8412\n",
      "Confusion matrix, without normalization\n",
      "[[ 358  840]\n",
      " [ 190 5098]]\n",
      "Normalized confusion matrix\n",
      "[[0.29883139 0.70116861]\n",
      " [0.03593041 0.96406959]]\n"
     ]
    },
    {
     "data": {
      "image/png": "[encoded data removed]",
      "text/plain": [
       "<Figure size 432x288 with 2 Axes>"
      ]
     },
     "metadata": {
      "needs_background": "light"
     },
     "output_type": "display_data"
    },
    {
     "data": {
      "image/png": "[encoded data removed]",
      "text/plain": [
       "<Figure size 432x288 with 2 Axes>"
      ]
     },
     "metadata": {
      "needs_background": "light"
     },
     "output_type": "display_data"
    },
    {
     "name": "stdout",
     "output_type": "stream",
     "text": [
      "\n",
      "Classification Report:\n",
      "                 precision    recall  f1-score   support\n",
      "\n",
      "Not Recommended       0.65      0.30      0.41      1198\n",
      "    Recommended       0.86      0.96      0.91      5288\n",
      "\n",
      "       accuracy                           0.84      6486\n",
      "      macro avg       0.76      0.63      0.66      6486\n",
      "   weighted avg       0.82      0.84      0.82      6486\n",
      "\n"
     ]
    }
   ],
   "source": [
    "# Handle potential NaN values in combined GloVe representations\n",
    "combined_glove = np.nan_to_num(combined_glove_dvs)\n",
    "combined_weighted_glove = np.nan_to_num(combined_weighted_glove_dvs)\n",
    "\n",
    "# Create a separate results dictionary for combined features\n",
    "combined_results = {}\n",
    "\n",
    "# Evaluate all three combined feature representations\n",
    "print(\"\\n\\n==== EVALUATING COMBINED FEATURES (TITLE + REVIEW TEXT) ====\\n\")\n",
    "\n",
    "combined_results['Count Vectors'] = evaluate_title_features(\"Combined Count Vectors\", \n",
    "                                                           combined_count_features, \n",
    "                                                           labels, \n",
    "                                                           seed)\n",
    "\n",
    "combined_results['GloVe Embeddings'] = evaluate_title_features(\"Combined GloVe Embeddings\", \n",
    "                                                              combined_glove, \n",
    "                                                              labels, \n",
    "                                                              seed)\n",
    "\n",
    "combined_results['Weighted GloVe Embeddings'] = evaluate_title_features(\"Combined Weighted GloVe Embeddings\", \n",
    "                                                                       combined_weighted_glove, \n",
    "                                                                       labels, \n",
    "                                                                       seed)"
   ]
  },
  {
   "cell_type": "markdown",
   "metadata": {},
   "source": [
    "### Combined Features (Title + Review) Classification Analysis\n",
    "\n",
    "Based on the evaluation of combined features (title + review text):\n",
    "\n",
    "#### Count Vector (Bag-of-Words) for Combined Features\n",
    "- Achieves the highest accuracy (0.89) and F1-score (0.93) among all models.\n",
    "- Most effective at identifying negative reviews while maintaining high precision for positive ones.\n",
    "\n",
    "#### Unweighted GloVe Embeddings for Combined Features\n",
    "- Performance: 83.2% accuracy and 0.90 F1-score.\n",
    "- Still struggles with identifying negative reviews.\n",
    "\n",
    "#### TF-IDF Weighted GloVe Embeddings for Combined Features\n",
    "- Performance is nearly identical to unweighted embeddings (83.4% accuracy, 0.91 F1-score).\n",
    "- TF-IDF weighting continues to provide minimal improvement over unweighted embeddings."
   ]
  },
  {
   "cell_type": "markdown",
   "metadata": {},
   "source": [
    "Let build cross validation for combine both title and reviews"
   ]
  },
  {
   "cell_type": "code",
   "execution_count": 148,
   "metadata": {},
   "outputs": [],
   "source": [
    "# Create separate DataFrames for accuracy and F1 for combined features\n",
    "metrics_f1_combined = ['count_f1_combined', 'unweighted_f1_combined', 'weighted_f1_combined']\n",
    "metrics_acc_combined = ['count_acc_combined', 'unweighted_acc_combined', 'weighted_acc_combined']\n",
    "\n",
    "cv_df_f1_combined = pd.DataFrame(columns=metrics_f1_combined, index=range(num_folds))\n",
    "cv_df_acc_combined = pd.DataFrame(columns=metrics_acc_combined, index=range(num_folds))\n",
    "\n",
    "fold = 0\n",
    "for train_index, test_index in kf.split(list(range(0, len(labels)))):\n",
    "    y_train = [labels[i] for i in train_index]\n",
    "    y_test = [labels[i] for i in test_index]\n",
    "\n",
    "    # Count vector on combined title + review text\n",
    "    acc, f1 = evaluate(combined_count_features[train_index], combined_count_features[test_index], y_train, y_test, seed)\n",
    "    cv_df_f1_combined.loc[fold, 'count_f1_combined'] = f1\n",
    "    cv_df_acc_combined.loc[fold, 'count_acc_combined'] = acc\n",
    "\n",
    "    # Unweighted GloVe on combined text\n",
    "    acc, f1 = evaluate(combined_glove[train_index], combined_glove[test_index], y_train, y_test, seed)\n",
    "    cv_df_f1_combined.loc[fold, 'unweighted_f1_combined'] = f1\n",
    "    cv_df_acc_combined.loc[fold, 'unweighted_acc_combined'] = acc\n",
    "\n",
    "    # TF-IDF Weighted GloVe on combined text\n",
    "    acc, f1 = evaluate(combined_weighted_glove[train_index], combined_weighted_glove[test_index], y_train, y_test, seed)\n",
    "    cv_df_f1_combined.loc[fold, 'weighted_f1_combined'] = f1\n",
    "    cv_df_acc_combined.loc[fold, 'weighted_acc_combined'] = acc\n",
    "\n",
    "    fold += 1"
   ]
  },
  {
   "cell_type": "code",
   "execution_count": 149,
   "metadata": {},
   "outputs": [
    {
     "data": {
      "text/html": [
       "<div>\n",
       "<style scoped>\n",
       "    .dataframe tbody tr th:only-of-type {\n",
       "        vertical-align: middle;\n",
       "    }\n",
       "\n",
       "    .dataframe tbody tr th {\n",
       "        vertical-align: top;\n",
       "    }\n",
       "\n",
       "    .dataframe thead th {\n",
       "        text-align: right;\n",
       "    }\n",
       "</style>\n",
       "<table border=\"1\" class=\"dataframe\">\n",
       "  <thead>\n",
       "    <tr style=\"text-align: right;\">\n",
       "      <th></th>\n",
       "      <th>count_acc_combined</th>\n",
       "      <th>unweighted_acc_combined</th>\n",
       "      <th>weighted_acc_combined</th>\n",
       "    </tr>\n",
       "  </thead>\n",
       "  <tbody>\n",
       "    <tr>\n",
       "      <th>0</th>\n",
       "      <td>0.891885</td>\n",
       "      <td>0.840499</td>\n",
       "      <td>0.839735</td>\n",
       "    </tr>\n",
       "    <tr>\n",
       "      <th>1</th>\n",
       "      <td>0.890104</td>\n",
       "      <td>0.852709</td>\n",
       "      <td>0.845332</td>\n",
       "    </tr>\n",
       "    <tr>\n",
       "      <th>2</th>\n",
       "      <td>0.892875</td>\n",
       "      <td>0.85598</td>\n",
       "      <td>0.84402</td>\n",
       "    </tr>\n",
       "    <tr>\n",
       "      <th>3</th>\n",
       "      <td>0.88855</td>\n",
       "      <td>0.848092</td>\n",
       "      <td>0.838931</td>\n",
       "    </tr>\n",
       "    <tr>\n",
       "      <th>4</th>\n",
       "      <td>0.894656</td>\n",
       "      <td>0.852417</td>\n",
       "      <td>0.842494</td>\n",
       "    </tr>\n",
       "  </tbody>\n",
       "</table>\n",
       "</div>"
      ],
      "text/plain": [
       "  count_acc_combined unweighted_acc_combined weighted_acc_combined\n",
       "0           0.891885                0.840499              0.839735\n",
       "1           0.890104                0.852709              0.845332\n",
       "2           0.892875                 0.85598               0.84402\n",
       "3            0.88855                0.848092              0.838931\n",
       "4           0.894656                0.852417              0.842494"
      ]
     },
     "execution_count": 149,
     "metadata": {},
     "output_type": "execute_result"
    }
   ],
   "source": [
    "# Display accuracy results for each fold\n",
    "cv_df_acc_combined"
   ]
  },
  {
   "cell_type": "code",
   "execution_count": 150,
   "metadata": {},
   "outputs": [
    {
     "data": {
      "text/plain": [
       "count_acc_combined         0.891614\n",
       "unweighted_acc_combined    0.849939\n",
       "weighted_acc_combined      0.842103\n",
       "dtype: float64"
      ]
     },
     "execution_count": 150,
     "metadata": {},
     "output_type": "execute_result"
    }
   ],
   "source": [
    "# Calculate mean accuracy across folds\n",
    "cv_df_acc_combined.mean()"
   ]
  },
  {
   "cell_type": "code",
   "execution_count": 151,
   "metadata": {},
   "outputs": [
    {
     "data": {
      "text/html": [
       "<div>\n",
       "<style scoped>\n",
       "    .dataframe tbody tr th:only-of-type {\n",
       "        vertical-align: middle;\n",
       "    }\n",
       "\n",
       "    .dataframe tbody tr th {\n",
       "        vertical-align: top;\n",
       "    }\n",
       "\n",
       "    .dataframe thead th {\n",
       "        text-align: right;\n",
       "    }\n",
       "</style>\n",
       "<table border=\"1\" class=\"dataframe\">\n",
       "  <thead>\n",
       "    <tr style=\"text-align: right;\">\n",
       "      <th></th>\n",
       "      <th>count_f1_combined</th>\n",
       "      <th>unweighted_f1_combined</th>\n",
       "      <th>weighted_f1_combined</th>\n",
       "    </tr>\n",
       "  </thead>\n",
       "  <tbody>\n",
       "    <tr>\n",
       "      <th>0</th>\n",
       "      <td>0.934946</td>\n",
       "      <td>0.906516</td>\n",
       "      <td>0.907244</td>\n",
       "    </tr>\n",
       "    <tr>\n",
       "      <th>1</th>\n",
       "      <td>0.934347</td>\n",
       "      <td>0.914159</td>\n",
       "      <td>0.910981</td>\n",
       "    </tr>\n",
       "    <tr>\n",
       "      <th>2</th>\n",
       "      <td>0.935833</td>\n",
       "      <td>0.915623</td>\n",
       "      <td>0.909866</td>\n",
       "    </tr>\n",
       "    <tr>\n",
       "      <th>3</th>\n",
       "      <td>0.932863</td>\n",
       "      <td>0.910909</td>\n",
       "      <td>0.906733</td>\n",
       "    </tr>\n",
       "    <tr>\n",
       "      <th>4</th>\n",
       "      <td>0.937406</td>\n",
       "      <td>0.91387</td>\n",
       "      <td>0.909384</td>\n",
       "    </tr>\n",
       "  </tbody>\n",
       "</table>\n",
       "</div>"
      ],
      "text/plain": [
       "  count_f1_combined unweighted_f1_combined weighted_f1_combined\n",
       "0          0.934946               0.906516             0.907244\n",
       "1          0.934347               0.914159             0.910981\n",
       "2          0.935833               0.915623             0.909866\n",
       "3          0.932863               0.910909             0.906733\n",
       "4          0.937406                0.91387             0.909384"
      ]
     },
     "execution_count": 151,
     "metadata": {},
     "output_type": "execute_result"
    }
   ],
   "source": [
    "# Display F1 scores for each fold\n",
    "cv_df_f1_combined"
   ]
  },
  {
   "cell_type": "code",
   "execution_count": 152,
   "metadata": {},
   "outputs": [
    {
     "data": {
      "text/plain": [
       "count_f1_combined         0.935079\n",
       "unweighted_f1_combined    0.912215\n",
       "weighted_f1_combined      0.908842\n",
       "dtype: float64"
      ]
     },
     "execution_count": 152,
     "metadata": {},
     "output_type": "execute_result"
    }
   ],
   "source": [
    "# Calculate mean F1 scores across folds\n",
    "cv_df_f1_combined.mean()"
   ]
  },
  {
   "cell_type": "markdown",
   "metadata": {},
   "source": [
    "\n",
    "From above experiments, we conducted training and evaluation of **logistic regression models** using three different feature representations for titles and reivews:\n",
    "\n",
    "- **Count Vector (Bag-of-Words)**\n",
    "- **Unweighted GloVe Embeddings**\n",
    "- **TF-IDF Weighted GloVe Embeddings**\n",
    "\n",
    "Each model was evaluated using **5-fold cross-validation**.\n",
    "### **Key Findings**\n",
    "- Strongest performance from combined inputs: using both the title and full review text together led to the best F1-scores across all model types. The count vector (bag-of-words) approach performed the best, reaching an impressive 93.51%, showing that merging different text sources clearly helps.\n",
    "- Clear model ranking remains: the bag-of-words model still comes out on top, performing about 2.3% better than the embedding-based models—just like it did when using titles or reviews alone.\n",
    "- Slight edge for unweighted embeddings: the unweighted GloVe embeddings slightly beat out the TF-IDF weighted versions by 0.34%, suggesting that adding weights may actually introduce noise.\n",
    "- Small but meaningful improvement: adding review text to the titles improves performance by 1.29% (from 92.22% to 93.51%). While not a huge leap, it shows that full reviews add helpful context, even if titles already carry a lot of the signal.\n",
    "\n",
    "---\n",
    "\n",
    "### **Analysis**\n",
    "- Putting titles and reviews together does help classification, but the relatively small improvement shows that titles alone do a greate job. This is useful for systems, where titles are quicker to process and still give you most of the performance you'd get from using everything.\n",
    "- The fact that simple bag-of-words features beat word embeddings—even when combining texts—suggests that specific words matter more than their deeper meanings in this classification. People often make their opinions clear through direct language, especially in titles.\n",
    "- The small drop in performance when using TF-IDF-weighted embeddings hints that extra complexity can sometimes hurt rather than help. In these cases, keeping it simple may be the better choice.\n",
    "- For apply to build applications, this suggests a smart method such as layered strategy: use a lightweight title-only model for most cases, and bring in the full reviews only when you need more confidence without overloading the system.\n"
   ]
  },
  {
   "cell_type": "code",
   "execution_count": 153,
   "metadata": {},
   "outputs": [
    {
     "data": {
      "text/html": [
       "<div>\n",
       "<style scoped>\n",
       "    .dataframe tbody tr th:only-of-type {\n",
       "        vertical-align: middle;\n",
       "    }\n",
       "\n",
       "    .dataframe tbody tr th {\n",
       "        vertical-align: top;\n",
       "    }\n",
       "\n",
       "    .dataframe thead th {\n",
       "        text-align: right;\n",
       "    }\n",
       "</style>\n",
       "<table border=\"1\" class=\"dataframe\">\n",
       "  <thead>\n",
       "    <tr style=\"text-align: right;\">\n",
       "      <th></th>\n",
       "      <th>Review Only</th>\n",
       "      <th>Title Only</th>\n",
       "      <th>Combined</th>\n",
       "    </tr>\n",
       "  </thead>\n",
       "  <tbody>\n",
       "    <tr>\n",
       "      <th>count_f1</th>\n",
       "      <td>0.924869</td>\n",
       "      <td>0.922155</td>\n",
       "      <td>0.935079</td>\n",
       "    </tr>\n",
       "    <tr>\n",
       "      <th>unweighted_f1</th>\n",
       "      <td>0.901125</td>\n",
       "      <td>0.902192</td>\n",
       "      <td>0.912215</td>\n",
       "    </tr>\n",
       "    <tr>\n",
       "      <th>weighted_f1</th>\n",
       "      <td>0.901559</td>\n",
       "      <td>0.902964</td>\n",
       "      <td>0.908842</td>\n",
       "    </tr>\n",
       "  </tbody>\n",
       "</table>\n",
       "</div>"
      ],
      "text/plain": [
       "               Review Only  Title Only  Combined\n",
       "count_f1          0.924869    0.922155  0.935079\n",
       "unweighted_f1     0.901125    0.902192  0.912215\n",
       "weighted_f1       0.901559    0.902964  0.908842"
      ]
     },
     "execution_count": 153,
     "metadata": {},
     "output_type": "execute_result"
    }
   ],
   "source": [
    "# Combined results from all three cross-validation dataframes\n",
    "combined_metrics_f1 = pd.concat([\n",
    "    cv_df_f1.mean().rename(lambda x: x.replace('_review', '')),\n",
    "    cv_df_f1_title.mean().rename(lambda x: x.replace('_title', '')),\n",
    "    cv_df_f1_combined.mean().rename(lambda x: x.replace('_combined', ''))\n",
    "], axis=1)\n",
    "\n",
    "combined_metrics_f1.columns = ['Review Only', 'Title Only', 'Combined']\n",
    "combined_metrics_f1"
   ]
  },
  {
   "cell_type": "code",
   "execution_count": 154,
   "metadata": {},
   "outputs": [
    {
     "data": {
      "text/html": [
       "<div>\n",
       "<style scoped>\n",
       "    .dataframe tbody tr th:only-of-type {\n",
       "        vertical-align: middle;\n",
       "    }\n",
       "\n",
       "    .dataframe tbody tr th {\n",
       "        vertical-align: top;\n",
       "    }\n",
       "\n",
       "    .dataframe thead th {\n",
       "        text-align: right;\n",
       "    }\n",
       "</style>\n",
       "<table border=\"1\" class=\"dataframe\">\n",
       "  <thead>\n",
       "    <tr style=\"text-align: right;\">\n",
       "      <th></th>\n",
       "      <th>Review Only</th>\n",
       "      <th>Title Only</th>\n",
       "      <th>Combined</th>\n",
       "    </tr>\n",
       "  </thead>\n",
       "  <tbody>\n",
       "    <tr>\n",
       "      <th>count_acc</th>\n",
       "      <td>0.873957</td>\n",
       "      <td>0.865764</td>\n",
       "      <td>0.891614</td>\n",
       "    </tr>\n",
       "    <tr>\n",
       "      <th>unweighted_acc</th>\n",
       "      <td>0.825310</td>\n",
       "      <td>0.829890</td>\n",
       "      <td>0.849939</td>\n",
       "    </tr>\n",
       "    <tr>\n",
       "      <th>weighted_acc</th>\n",
       "      <td>0.825158</td>\n",
       "      <td>0.829279</td>\n",
       "      <td>0.842103</td>\n",
       "    </tr>\n",
       "  </tbody>\n",
       "</table>\n",
       "</div>"
      ],
      "text/plain": [
       "                Review Only  Title Only  Combined\n",
       "count_acc          0.873957    0.865764  0.891614\n",
       "unweighted_acc     0.825310    0.829890  0.849939\n",
       "weighted_acc       0.825158    0.829279  0.842103"
      ]
     },
     "execution_count": 154,
     "metadata": {},
     "output_type": "execute_result"
    }
   ],
   "source": [
    "# Combined results from all three cross-validation dataframes for accuracy\n",
    "combined_metrics_acc = pd.concat([\n",
    "    cv_df_acc.mean().rename(lambda x: x.replace('_review', '')),\n",
    "    cv_df_acc_title.mean().rename(lambda x: x.replace('_title', '')),\n",
    "    cv_df_acc_combined.mean().rename(lambda x: x.replace('_combined', ''))\n",
    "], axis=1)\n",
    "\n",
    "combined_metrics_acc.columns = ['Review Only', 'Title Only', 'Combined']\n",
    "combined_metrics_acc"
   ]
  },
  {
   "cell_type": "markdown",
   "metadata": {},
   "source": [
    "### Model comparison summary\n",
    "This study evaluated different text representation techniques for predicting clothing review recommendations, comparing bag-of-words (count vectors) against GloVe embeddings (both weighted and unweighted) across three information sources (review text, titles, and combined).\n",
    "\n",
    "#### Information source comparison\n",
    "- Combined (title + review) > Review only > Title only when using count vectors.\n",
    "- Titles alone perform well, achieving an F1-score with count vectors.\n",
    "#### Feature representation performance\n",
    "- Count vectors consistently outperform GloVe embeddings for all cases.\n",
    "- The gap between count vectors and embeddings is largest for review text and combined sources.\n",
    "- For titles alone, the performance difference between methods is smaller.\n",
    "#### Embedding performance\n",
    "- Weighted and unweighted GloVe embeddings perform nearly identically across all sources.\n",
    "- This confirms that TF-IDF weighting offers minimal benefit in this task."
   ]
  },
  {
   "cell_type": "markdown",
   "metadata": {},
   "source": [
    "## Reference\n",
    "- Activities and labs files for this course. \n",
    "- Github Copilot"
   ]
  }
 ],
 "metadata": {
  "kernelspec": {
   "display_name": "Python 3",
   "language": "python",
   "name": "python3"
  },
  "language_info": {
   "codemirror_mode": {
    "name": "ipython",
    "version": 3
   },
   "file_extension": ".py",
   "mimetype": "text/x-python",
   "name": "python",
   "nbconvert_exporter": "python",
   "pygments_lexer": "ipython3",
   "version": "3.8.8"
  }
 },
 "nbformat": 4,
 "nbformat_minor": 4
}
